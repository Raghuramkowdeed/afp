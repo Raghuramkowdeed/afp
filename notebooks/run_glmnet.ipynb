{
 "cells": [
  {
   "cell_type": "code",
   "execution_count": 1,
   "metadata": {
    "collapsed": false
   },
   "outputs": [
    {
     "name": "stdout",
     "output_type": "stream",
     "text": [
      "Populating the interactive namespace from numpy and matplotlib\n"
     ]
    }
   ],
   "source": [
    "import numpy as np\n",
    "import pandas as pd\n",
    "np.set_printoptions(threshold=np.nan)\n",
    "from sklearn.preprocessing import scale\n",
    "from sklearn.linear_model import LinearRegression\n",
    "%pylab inline\n",
    "exec(open(\"/Users/raghuramkowdeed/Documents/afp/get_signal_names.py\").read())\n",
    "exec(open(\"/Users/raghuramkowdeed/Documents/afp/portfolio_optimizer.py\").read())\n",
    "exec(open(\"/Users/raghuramkowdeed/Documents/afp/non_linear_signal.py\").read())\n",
    "import datetime\n",
    "from pylab import rcParams\n"
   ]
  },
  {
   "cell_type": "code",
   "execution_count": 2,
   "metadata": {
    "collapsed": true
   },
   "outputs": [],
   "source": [
    "sig_dir = '/Users/raghuramkowdeed/Desktop/afp_data/1000/ranked_rps_data/'\n",
    "#sig_dir = '/Users/raghuramkowdeed/Desktop/afp_data/1000/norm_rps_data/'"
   ]
  },
  {
   "cell_type": "code",
   "execution_count": 3,
   "metadata": {
    "collapsed": false
   },
   "outputs": [],
   "source": [
    "sig_df = pd.DataFrame()\n",
    "sig_files = os.listdir(sig_dir)\n",
    "sig_files = np.sort(sig_files)\n",
    "\n",
    "for sig_file in sig_files :\n",
    "    if '.csv' not in sig_file :\n",
    "        continue\n",
    "    #print(sig_file)\n",
    "    this_file = sig_dir + sig_file\n",
    "    this_df = pd.read_csv(this_file, index_col = 'date')\n",
    "    this_df.index = [ datetime.datetime.strptime(val, '%Y-%m-%d') for val in this_df.index]\n",
    "    sig_df = sig_df.append(this_df)\n",
    "    "
   ]
  },
  {
   "cell_type": "code",
   "execution_count": 4,
   "metadata": {
    "collapsed": true
   },
   "outputs": [],
   "source": [
    "begin_date = datetime.datetime.strptime('19900101', '%Y%m%d')\n",
    "end_date = datetime.datetime.strptime('20170101', '%Y%m%d')\n",
    "\n",
    "sig_df = sig_df[(sig_df.index>=begin_date) & (sig_df.index<end_date)]\n",
    "sig_df = sig_df.fillna(sig_df.mean())"
   ]
  },
  {
   "cell_type": "code",
   "execution_count": 5,
   "metadata": {
    "collapsed": false
   },
   "outputs": [
    {
     "data": {
      "text/plain": [
       "True"
      ]
     },
     "execution_count": 5,
     "metadata": {},
     "output_type": "execute_result"
    }
   ],
   "source": [
    "'res_ret' in sig_df.columns"
   ]
  },
  {
   "cell_type": "code",
   "execution_count": 6,
   "metadata": {
    "collapsed": false
   },
   "outputs": [],
   "source": [
    "factor_names =  ['beta','mve', 'bm', 'roic', 'agr', 'mom12m', 'idiovol']\n",
    "#factor_names =  ['beta']\n",
    "sig_names = get_signal_names()\n",
    "ret = sig_df['ret']\n",
    "sig_df = sig_df[sig_names]\n",
    "sig_df = sig_df.drop(factor_names, axis=1)"
   ]
  },
  {
   "cell_type": "code",
   "execution_count": 7,
   "metadata": {
    "collapsed": false
   },
   "outputs": [
    {
     "data": {
      "text/plain": [
       "False"
      ]
     },
     "execution_count": 7,
     "metadata": {},
     "output_type": "execute_result"
    }
   ],
   "source": [
    "'res_ret' in sig_df.columns"
   ]
  },
  {
   "cell_type": "code",
   "execution_count": 9,
   "metadata": {
    "collapsed": false
   },
   "outputs": [
    {
     "name": "stdout",
     "output_type": "stream",
     "text": [
      "--------\n"
     ]
    }
   ],
   "source": [
    "\n",
    "pm = PortfolioOptimizer(fac_data_dir='/Users/raghuramkowdeed/Desktop/afp_data/1000/factor_exposure_data/',\n",
    "                        fac_ret_file = '/Users/raghuramkowdeed/Desktop/afp_data/1000/fac_ret_file.csv',\n",
    "                        fac_cov_hl = 12.0,\n",
    "                        fac_names = None\n",
    "                       )\n",
    "\n"
   ]
  },
  {
   "cell_type": "code",
   "execution_count": 10,
   "metadata": {
    "collapsed": true
   },
   "outputs": [],
   "source": [
    "#new_sig_df = pd.DataFrame()\n",
    "\n",
    "#for sig_name in sig_df.columns :\n",
    "#    this_sig = sig_df[sig_name]\n",
    "#    this_sig = pm.neu_signal(this_sig)\n",
    "#    this_sig = this_sig.fillna(this_sig.mean())\n",
    "#    new_sig_df[sig_name] = this_sig\n",
    "#sig_df = new_sig_df"
   ]
  },
  {
   "cell_type": "code",
   "execution_count": 11,
   "metadata": {
    "collapsed": false
   },
   "outputs": [
    {
     "data": {
      "text/plain": [
       "array([], dtype=int64)"
      ]
     },
     "execution_count": 11,
     "metadata": {},
     "output_type": "execute_result"
    }
   ],
   "source": [
    "np.where( sig_df.isnull().any() ) [0]"
   ]
  },
  {
   "cell_type": "code",
   "execution_count": 12,
   "metadata": {
    "collapsed": true
   },
   "outputs": [],
   "source": [
    "num_sig_vec = range(5,80,5)"
   ]
  },
  {
   "cell_type": "code",
   "execution_count": 13,
   "metadata": {
    "collapsed": false
   },
   "outputs": [
    {
     "name": "stdout",
     "output_type": "stream",
     "text": [
      "inside\n",
      "1991-01-31 00:00:00\n",
      "1991-02-28 00:00:00\n",
      "1991-03-28 00:00:00\n",
      "1991-04-30 00:00:00\n",
      "1991-05-31 00:00:00\n",
      "1991-06-28 00:00:00\n",
      "1991-07-31 00:00:00\n",
      "1991-08-30 00:00:00\n",
      "1991-09-30 00:00:00\n",
      "1991-10-31 00:00:00\n",
      "1991-11-29 00:00:00\n",
      "1991-12-31 00:00:00\n",
      "1992-01-31 00:00:00\n",
      "1992-02-28 00:00:00\n",
      "1992-03-31 00:00:00\n",
      "1992-04-30 00:00:00\n",
      "1992-05-29 00:00:00\n",
      "1992-06-30 00:00:00\n",
      "1992-07-31 00:00:00\n",
      "1992-08-31 00:00:00\n",
      "1992-09-30 00:00:00\n",
      "1992-10-30 00:00:00\n",
      "1992-11-30 00:00:00\n",
      "1992-12-31 00:00:00\n",
      "1993-01-29 00:00:00\n",
      "1993-02-26 00:00:00\n",
      "1993-03-31 00:00:00\n",
      "1993-04-30 00:00:00\n",
      "1993-05-28 00:00:00\n",
      "1993-06-30 00:00:00\n",
      "1993-07-30 00:00:00\n",
      "1993-08-31 00:00:00\n",
      "1993-09-30 00:00:00\n",
      "1993-10-29 00:00:00\n",
      "1993-11-30 00:00:00\n",
      "1993-12-31 00:00:00\n",
      "1994-01-31 00:00:00\n",
      "1994-02-28 00:00:00\n",
      "1994-03-31 00:00:00\n",
      "1994-04-29 00:00:00\n",
      "1994-05-31 00:00:00\n",
      "1994-06-30 00:00:00\n",
      "1994-07-29 00:00:00\n",
      "1994-08-31 00:00:00\n",
      "1994-09-30 00:00:00\n",
      "1994-10-31 00:00:00\n",
      "1994-11-30 00:00:00\n",
      "1994-12-30 00:00:00\n",
      "1995-01-31 00:00:00\n",
      "1995-02-28 00:00:00\n",
      "1995-03-31 00:00:00\n",
      "1995-04-28 00:00:00\n",
      "1995-05-31 00:00:00\n",
      "1995-06-30 00:00:00\n",
      "1995-07-31 00:00:00\n",
      "1995-08-31 00:00:00\n",
      "1995-09-29 00:00:00\n",
      "1995-10-31 00:00:00\n",
      "1995-11-30 00:00:00\n",
      "1995-12-29 00:00:00\n",
      "1996-01-31 00:00:00\n",
      "1996-02-29 00:00:00\n",
      "1996-03-29 00:00:00\n",
      "1996-04-30 00:00:00\n",
      "1996-05-31 00:00:00\n",
      "1996-06-28 00:00:00\n",
      "1996-07-31 00:00:00\n",
      "1996-08-30 00:00:00\n",
      "1996-09-30 00:00:00\n",
      "1996-10-31 00:00:00\n",
      "1996-11-29 00:00:00\n",
      "1996-12-31 00:00:00\n",
      "1997-01-31 00:00:00\n",
      "1997-02-28 00:00:00\n",
      "1997-03-31 00:00:00\n",
      "1997-04-30 00:00:00\n",
      "1997-05-30 00:00:00\n",
      "1997-06-30 00:00:00\n",
      "1997-07-31 00:00:00\n",
      "1997-08-29 00:00:00\n",
      "1997-09-30 00:00:00\n",
      "1997-10-31 00:00:00\n",
      "1997-11-28 00:00:00\n",
      "1997-12-31 00:00:00\n",
      "1998-01-30 00:00:00\n",
      "1998-02-27 00:00:00\n",
      "1998-03-31 00:00:00\n",
      "1998-04-30 00:00:00\n",
      "1998-05-29 00:00:00\n",
      "1998-06-30 00:00:00\n",
      "1998-07-31 00:00:00\n",
      "1998-08-31 00:00:00\n",
      "1998-09-30 00:00:00\n",
      "1998-10-30 00:00:00\n",
      "1998-11-30 00:00:00\n",
      "1998-12-31 00:00:00\n",
      "1999-01-29 00:00:00\n",
      "1999-02-26 00:00:00\n",
      "1999-03-31 00:00:00\n",
      "1999-04-30 00:00:00\n",
      "1999-05-28 00:00:00\n",
      "1999-06-30 00:00:00\n",
      "1999-07-30 00:00:00\n",
      "1999-08-31 00:00:00\n",
      "1999-09-30 00:00:00\n",
      "1999-10-29 00:00:00\n",
      "1999-11-30 00:00:00\n",
      "1999-12-31 00:00:00\n",
      "2000-01-31 00:00:00\n",
      "2000-02-29 00:00:00\n",
      "2000-03-31 00:00:00\n",
      "2000-04-28 00:00:00\n",
      "2000-05-31 00:00:00\n",
      "2000-06-30 00:00:00\n",
      "2000-07-31 00:00:00\n",
      "2000-08-31 00:00:00\n",
      "2000-09-29 00:00:00\n",
      "2000-10-31 00:00:00\n",
      "2000-11-30 00:00:00\n",
      "2000-12-29 00:00:00\n",
      "2001-01-31 00:00:00\n",
      "2001-02-28 00:00:00\n",
      "2001-03-30 00:00:00\n",
      "2001-04-30 00:00:00\n",
      "2001-05-31 00:00:00\n",
      "2001-06-29 00:00:00\n",
      "2001-07-31 00:00:00\n",
      "2001-08-31 00:00:00\n",
      "2001-09-28 00:00:00\n",
      "2001-10-31 00:00:00\n",
      "2001-11-30 00:00:00\n",
      "2001-12-31 00:00:00\n",
      "2002-01-31 00:00:00\n",
      "2002-02-28 00:00:00\n",
      "2002-03-28 00:00:00\n",
      "2002-04-30 00:00:00\n",
      "2002-05-31 00:00:00\n",
      "2002-06-28 00:00:00\n",
      "2002-07-31 00:00:00\n",
      "2002-08-30 00:00:00\n",
      "2002-09-30 00:00:00\n",
      "2002-10-31 00:00:00\n",
      "2002-11-29 00:00:00\n",
      "2002-12-31 00:00:00\n",
      "2003-01-31 00:00:00\n",
      "2003-02-28 00:00:00\n",
      "2003-03-31 00:00:00\n",
      "2003-04-30 00:00:00\n",
      "2003-05-30 00:00:00\n",
      "2003-06-30 00:00:00\n",
      "2003-07-31 00:00:00\n",
      "2003-08-29 00:00:00\n",
      "2003-09-30 00:00:00\n",
      "2003-10-31 00:00:00\n",
      "2003-11-28 00:00:00\n",
      "2003-12-31 00:00:00\n",
      "2004-01-30 00:00:00\n",
      "2004-02-27 00:00:00\n",
      "2004-03-31 00:00:00\n",
      "2004-04-30 00:00:00\n",
      "2004-05-28 00:00:00\n",
      "2004-06-30 00:00:00\n",
      "2004-07-30 00:00:00\n",
      "2004-08-31 00:00:00\n",
      "2004-09-30 00:00:00\n",
      "2004-10-29 00:00:00\n",
      "2004-11-30 00:00:00\n",
      "2004-12-31 00:00:00\n",
      "2005-01-31 00:00:00\n",
      "2005-02-28 00:00:00\n",
      "2005-03-31 00:00:00\n",
      "2005-04-29 00:00:00\n",
      "2005-05-31 00:00:00\n",
      "2005-06-30 00:00:00\n",
      "2005-07-29 00:00:00\n",
      "2005-08-31 00:00:00\n",
      "2005-09-30 00:00:00\n",
      "2005-10-31 00:00:00\n",
      "2005-11-30 00:00:00\n",
      "2005-12-30 00:00:00\n",
      "2006-01-31 00:00:00\n",
      "2006-02-28 00:00:00\n",
      "2006-03-31 00:00:00\n",
      "2006-04-28 00:00:00\n",
      "2006-05-31 00:00:00\n",
      "2006-06-30 00:00:00\n",
      "2006-07-31 00:00:00\n",
      "2006-08-31 00:00:00\n",
      "2006-09-29 00:00:00\n",
      "2006-10-31 00:00:00\n",
      "2006-11-30 00:00:00\n",
      "2006-12-29 00:00:00\n",
      "2007-01-31 00:00:00\n",
      "2007-02-28 00:00:00\n",
      "2007-03-30 00:00:00\n",
      "2007-04-30 00:00:00\n",
      "2007-05-31 00:00:00\n",
      "2007-06-29 00:00:00\n",
      "2007-07-31 00:00:00\n",
      "2007-08-31 00:00:00\n",
      "2007-09-28 00:00:00\n",
      "2007-10-31 00:00:00\n",
      "2007-11-30 00:00:00\n",
      "2007-12-31 00:00:00\n",
      "2008-01-31 00:00:00\n",
      "2008-02-29 00:00:00\n",
      "2008-03-31 00:00:00\n",
      "2008-04-30 00:00:00\n",
      "2008-05-30 00:00:00\n",
      "2008-06-30 00:00:00\n",
      "2008-07-31 00:00:00\n",
      "2008-08-29 00:00:00\n",
      "2008-09-30 00:00:00\n",
      "2008-10-31 00:00:00\n",
      "2008-11-28 00:00:00\n",
      "2008-12-31 00:00:00\n",
      "2009-01-30 00:00:00\n",
      "2009-02-27 00:00:00\n",
      "2009-03-31 00:00:00\n",
      "2009-04-30 00:00:00\n",
      "2009-05-29 00:00:00\n",
      "2009-06-30 00:00:00\n",
      "2009-07-31 00:00:00\n",
      "2009-08-31 00:00:00\n",
      "2009-09-30 00:00:00\n",
      "2009-10-30 00:00:00\n",
      "2009-11-30 00:00:00\n",
      "2009-12-31 00:00:00\n",
      "2010-01-29 00:00:00\n",
      "2010-02-26 00:00:00\n",
      "2010-03-31 00:00:00\n",
      "2010-04-30 00:00:00\n",
      "2010-05-28 00:00:00\n",
      "2010-06-30 00:00:00\n",
      "2010-07-30 00:00:00\n",
      "2010-08-31 00:00:00\n",
      "2010-09-30 00:00:00\n",
      "2010-10-29 00:00:00\n",
      "2010-11-30 00:00:00\n",
      "2010-12-31 00:00:00\n",
      "2011-01-31 00:00:00\n",
      "2011-02-28 00:00:00\n",
      "2011-03-31 00:00:00\n",
      "2011-04-29 00:00:00\n",
      "2011-05-31 00:00:00\n",
      "2011-06-30 00:00:00\n",
      "2011-07-29 00:00:00\n",
      "2011-08-31 00:00:00\n",
      "2011-09-30 00:00:00\n",
      "2011-10-31 00:00:00\n",
      "2011-11-30 00:00:00\n",
      "2011-12-30 00:00:00\n",
      "2012-01-31 00:00:00\n",
      "2012-02-29 00:00:00\n",
      "2012-03-30 00:00:00\n",
      "2012-04-30 00:00:00\n",
      "2012-05-31 00:00:00\n",
      "2012-06-29 00:00:00\n",
      "2012-07-31 00:00:00\n",
      "2012-08-31 00:00:00\n",
      "2012-09-28 00:00:00\n",
      "2012-10-31 00:00:00\n",
      "2012-11-30 00:00:00\n",
      "2012-12-31 00:00:00\n",
      "2013-01-31 00:00:00\n",
      "2013-02-28 00:00:00\n",
      "2013-03-28 00:00:00\n",
      "2013-04-30 00:00:00\n",
      "2013-05-31 00:00:00\n",
      "2013-06-28 00:00:00\n",
      "2013-07-31 00:00:00\n",
      "2013-08-30 00:00:00\n",
      "2013-09-30 00:00:00\n",
      "2013-10-31 00:00:00\n",
      "2013-11-29 00:00:00\n",
      "2013-12-31 00:00:00\n",
      "2014-01-31 00:00:00\n",
      "2014-02-28 00:00:00\n",
      "2014-03-31 00:00:00\n",
      "2014-04-30 00:00:00\n",
      "2014-05-30 00:00:00\n",
      "2014-06-30 00:00:00\n",
      "2014-07-31 00:00:00\n",
      "2014-08-29 00:00:00\n",
      "2014-09-30 00:00:00\n",
      "2014-10-31 00:00:00\n",
      "2014-11-28 00:00:00\n",
      "2014-12-31 00:00:00\n",
      "2015-01-30 00:00:00\n",
      "2015-02-27 00:00:00\n",
      "2015-03-31 00:00:00\n",
      "2015-04-30 00:00:00\n",
      "2015-05-29 00:00:00\n",
      "2015-06-30 00:00:00\n",
      "2015-07-31 00:00:00\n",
      "2015-08-31 00:00:00\n",
      "2015-09-30 00:00:00\n",
      "2015-10-30 00:00:00\n",
      "2015-11-30 00:00:00\n",
      "2015-12-31 00:00:00\n",
      "2016-01-29 00:00:00\n",
      "2016-02-29 00:00:00\n",
      "2016-03-31 00:00:00\n",
      "2016-04-29 00:00:00\n",
      "2016-05-31 00:00:00\n",
      "2016-06-30 00:00:00\n",
      "2016-07-29 00:00:00\n",
      "2016-08-31 00:00:00\n",
      "2016-09-30 00:00:00\n",
      "2016-10-31 00:00:00\n",
      "2016-11-30 00:00:00\n",
      "2016-12-30 00:00:00\n"
     ]
    }
   ],
   "source": [
    "glm_sig_df, sig_names = get_glmnet_sig(sig_df, ret, look_back = 12,num_sig_vec = num_sig_vec, alpha = 0.5 )\n"
   ]
  },
  {
   "cell_type": "code",
   "execution_count": null,
   "metadata": {
    "collapsed": false
   },
   "outputs": [],
   "source": []
  },
  {
   "cell_type": "code",
   "execution_count": 14,
   "metadata": {
    "collapsed": false
   },
   "outputs": [
    {
     "name": "stdout",
     "output_type": "stream",
     "text": [
      "0\n",
      "1\n",
      "2\n",
      "3\n",
      "4\n",
      "5\n",
      "6\n",
      "7\n",
      "8\n",
      "9\n",
      "10\n",
      "11\n",
      "12\n",
      "13\n",
      "14\n"
     ]
    }
   ],
   "source": [
    "pnl_df = pd.DataFrame()\n",
    "for i in range( glm_sig_df.shape[1]):\n",
    "    print(i)\n",
    "    glm_pnl_sr = pm.run_signal(sig_sr=glm_sig_df.iloc[:,i],neu_sig=True)\n",
    "    pnl_df[num_sig_vec[i]] = glm_pnl_sr"
   ]
  },
  {
   "cell_type": "code",
   "execution_count": 17,
   "metadata": {
    "collapsed": false
   },
   "outputs": [
    {
     "data": {
      "text/plain": [
       "<matplotlib.axes._subplots.AxesSubplot at 0x11dc20080>"
      ]
     },
     "execution_count": 17,
     "metadata": {},
     "output_type": "execute_result"
    },
    {
     "data": {
      "image/png": "[encoded data removed]",
      "text/plain": [
       "<matplotlib.figure.Figure at 0x11dc1d0f0>"
      ]
     },
     "metadata": {},
     "output_type": "display_data"
    }
   ],
   "source": [
    "window = 12\n",
    "#pnl_df_avg = ( pnl_df.rolling(window=window).mean()*sqrt(12) ) /( pnl_df.rolling(window=window).std() )\n",
    "pnl_df_avg = ( pnl_df.rolling(window=window).mean()*sqrt(12) )    \n",
    "max_ind = pnl_df_avg.idxmax(axis=1)\n",
    "min_ind = pnl_df_avg.idxmin(axis=1)\n",
    "max_ind_smt = max_ind.ewm(halflife=window).mean()\n",
    "\n",
    "rcParams['figure.figsize'] = 20,10\n",
    "max_ind_smt.plot()"
   ]
  },
  {
   "cell_type": "code",
   "execution_count": 16,
   "metadata": {
    "collapsed": false
   },
   "outputs": [
    {
     "data": {
      "text/plain": [
       "5     0.535944\n",
       "10    0.740387\n",
       "15    0.891946\n",
       "20    0.943931\n",
       "25    0.999642\n",
       "30    1.024219\n",
       "35    1.051922\n",
       "40    1.062691\n",
       "45    1.080833\n",
       "50    1.093817\n",
       "55    1.114764\n",
       "60    1.129839\n",
       "65    1.139118\n",
       "70    1.150864\n",
       "75    1.162698\n",
       "dtype: float64"
      ]
     },
     "execution_count": 16,
     "metadata": {},
     "output_type": "execute_result"
    }
   ],
   "source": [
    "pnl_df.mean(axis=0)*sqrt(12)/pnl_df.std(axis=0)"
   ]
  },
  {
   "cell_type": "code",
   "execution_count": null,
   "metadata": {
    "collapsed": true
   },
   "outputs": [],
   "source": []
  },
  {
   "cell_type": "code",
   "execution_count": 9,
   "metadata": {
    "collapsed": false
   },
   "outputs": [],
   "source": [
    "l_sig_df = pd.read_csv('/Users/raghuramkowdeed/Desktop/afp_data/1000/l_sig_df_3.csv', index_col = 'date')\n",
    "l_sig_df.index = [ datetime.datetime.strptime(val, '%Y-%m-%d') for val in l_sig_df.index]\n",
    "l_sig_df = l_sig_df[(l_sig_df.index>=begin_date) & (l_sig_df.index<end_date)]\n",
    "l_sig_df = l_sig_df.drop(factor_names, axis=1)\n",
    "\n",
    "nl_knn_sig_df = pd.read_csv('/Users/raghuramkowdeed/Desktop/afp_data/1000/nl_knn_sig_df_3.csv', index_col = 'date')\n",
    "nl_knn_sig_df.index = [ datetime.datetime.strptime(val, '%Y-%m-%d') for val in nl_knn_sig_df.index]\n",
    "nl_knn_sig_df = nl_knn_sig_df[(nl_knn_sig_df.index>=begin_date) & (nl_knn_sig_df.index<end_date)]\n",
    "nl_knn_sig_df = nl_knn_sig_df.drop(factor_names, axis=1)\n"
   ]
  },
  {
   "cell_type": "code",
   "execution_count": 10,
   "metadata": {
    "collapsed": false
   },
   "outputs": [],
   "source": [
    "l_sig_rank_df = l_sig_df.copy()\n",
    "nl_knn_sig_rank_df = nl_knn_sig_df.copy()\n",
    "\n",
    "for ind in (l_sig_df.index.unique()) :\n",
    "    l_sig_rank_df.loc[ind] = (l_sig_df.loc[ind]).rank(axis=0)\n",
    "\n",
    "for ind in (nl_knn_sig_df.index.unique()) :\n",
    "    nl_knn_sig_rank_df.loc[ind] = (nl_knn_sig_df.loc[ind]).rank(axis=0)\n",
    "    \n",
    "\n"
   ]
  },
  {
   "cell_type": "code",
   "execution_count": 11,
   "metadata": {
    "collapsed": false
   },
   "outputs": [
    {
     "name": "stdout",
     "output_type": "stream",
     "text": [
      "inside\n",
      "0.175230878205\n"
     ]
    },
    {
     "data": {
      "image/png": "[encoded data removed]",
      "text/plain": [
       "<matplotlib.figure.Figure at 0x11e3d9b00>"
      ]
     },
     "metadata": {},
     "output_type": "display_data"
    }
   ],
   "source": [
    "ret_sr = ret[ ( ret.index>=l_sig_df.index[0] ) &  ( ret.index<=l_sig_df.index[-1] )]\n",
    "glm_sig_df = get_glmnet_sig(l_sig_rank_df, ret_sr, look_back = 3,num_sig_vec =num_sig_vec, alpha = 0.5 )\n",
    "glm_pnl_sr = pm.run_signal(sig_sr=glm_sig_df.iloc[:,1],neu_sig=True)\n",
    "glm_pnl_sr.cumsum().plot()\n",
    "print(glm_pnl_sr.mean()*sqrt(12)/glm_pnl_sr.std() )"
   ]
  },
  {
   "cell_type": "code",
   "execution_count": 14,
   "metadata": {
    "collapsed": false
   },
   "outputs": [
    {
     "name": "stdout",
     "output_type": "stream",
     "text": [
      "inside\n",
      "0.165418709591\n"
     ]
    },
    {
     "data": {
      "image/png": "[encoded data removed]",
      "text/plain": [
       "<matplotlib.figure.Figure at 0x11ddbbb00>"
      ]
     },
     "metadata": {},
     "output_type": "display_data"
    }
   ],
   "source": [
    "ret_sr = ret[ ( ret.index>=nl_knn_sig_df.index[0] ) &  ( ret.index<=nl_knn_sig_df.index[-1] )]\n",
    "\n",
    "glm_sig_df = get_glmnet_sig(nl_knn_sig_rank_df, ret_sr, look_back = 24,num_sig_vec =num_sig_vec, alpha = 0.5 )\n",
    "glm_pnl_sr = pm.run_signal(sig_sr=glm_sig_df.iloc[:,1],neu_sig=True)\n",
    "glm_pnl_sr.cumsum().plot()\n",
    "print(glm_pnl_sr.mean()*sqrt(12)/glm_pnl_sr.std() )"
   ]
  },
  {
   "cell_type": "code",
   "execution_count": 15,
   "metadata": {
    "collapsed": false
   },
   "outputs": [
    {
     "name": "stdout",
     "output_type": "stream",
     "text": [
      "1.1835056559\n"
     ]
    },
    {
     "data": {
      "image/png": "[encoded data removed]",
      "text/plain": [
       "<matplotlib.figure.Figure at 0x11ddcd518>"
      ]
     },
     "metadata": {},
     "output_type": "display_data"
    }
   ],
   "source": [
    "ret_sr = ret[ ( ret.index>=nl_knn_sig_df.index[0] ) &  ( ret.index<=nl_knn_sig_df.index[-1] )]\n",
    "best_sig_names = ['sfe', 'lev', 'fgr5yr']\n",
    "best_sig_sr = nl_knn_sig_rank_df[best_sig_names].mean(axis=1)\n",
    "\n",
    "glm_pnl_sr = pm.run_signal(sig_sr=best_sig_sr,neu_sig=True)\n",
    "glm_pnl_sr.cumsum().plot()\n",
    "print(glm_pnl_sr.mean()*sqrt(12)/glm_pnl_sr.std() )"
   ]
  },
  {
   "cell_type": "code",
   "execution_count": 14,
   "metadata": {
    "collapsed": false
   },
   "outputs": [
    {
     "data": {
      "text/plain": [
       "Index(['cfp_ia', 'indmom', 'saleinv', 'roaq', 'roavol'], dtype='object')"
      ]
     },
     "execution_count": 14,
     "metadata": {},
     "output_type": "execute_result"
    }
   ],
   "source": [
    "sig_df.columns[[11,52, 69, 84, 85]]"
   ]
  },
  {
   "cell_type": "code",
   "execution_count": 64,
   "metadata": {
    "collapsed": true
   },
   "outputs": [],
   "source": [
    "model = ElasticNet?"
   ]
  },
  {
   "cell_type": "code",
   "execution_count": null,
   "metadata": {
    "collapsed": true
   },
   "outputs": [],
   "source": [
    "model = ElasticNet"
   ]
  },
  {
   "cell_type": "code",
   "execution_count": 63,
   "metadata": {
    "collapsed": true
   },
   "outputs": [],
   "source": []
  },
  {
   "cell_type": "code",
   "execution_count": null,
   "metadata": {
    "collapsed": true
   },
   "outputs": [],
   "source": []
  }
 ],
 "metadata": {
  "anaconda-cloud": {},
  "kernelspec": {
   "display_name": "Python [Root]",
   "language": "python",
   "name": "Python [Root]"
  },
  "language_info": {
   "codemirror_mode": {
    "name": "ipython",
    "version": 3
   },
   "file_extension": ".py",
   "mimetype": "text/x-python",
   "name": "python",
   "nbconvert_exporter": "python",
   "pygments_lexer": "ipython3",
   "version": "3.5.2"
  }
 },
 "nbformat": 4,
 "nbformat_minor": 2
}
