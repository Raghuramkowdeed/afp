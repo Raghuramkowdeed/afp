{
 "cells": [
  {
   "cell_type": "code",
   "execution_count": 1,
   "metadata": {
    "collapsed": true
   },
   "outputs": [],
   "source": [
    "import numpy as np\n",
    "import pandas as pd\n",
    "import os as os"
   ]
  },
  {
   "cell_type": "code",
   "execution_count": 2,
   "metadata": {
    "collapsed": true
   },
   "outputs": [],
   "source": [
    "os.chdir('../')"
   ]
  },
  {
   "cell_type": "code",
   "execution_count": 3,
   "metadata": {
    "collapsed": false
   },
   "outputs": [
    {
     "name": "stdout",
     "output_type": "stream",
     "text": [
      "Populating the interactive namespace from numpy and matplotlib\n"
     ]
    }
   ],
   "source": [
    "%pylab inline\n",
    "exec(open(\"./run_model.py\").read())\n",
    "exec(open(\"./get_signal_names.py\").read())\n",
    "exec(open(\"./portfolio_optimizer.py\").read())\n",
    "exec(open(\"./non_linear_signal.py\").read())\n",
    "\n",
    "import datetime\n",
    "from pylab import rcParams"
   ]
  },
  {
   "cell_type": "code",
   "execution_count": 4,
   "metadata": {
    "collapsed": true
   },
   "outputs": [],
   "source": [
    "sig_type = 'rank'\n",
    "#rank\n",
    "#norm\n",
    "size_tag = '0_500'\n",
    "#0_3000\n",
    "#0_500\n",
    "#500_3000\n",
    "#use_pickle = True \n",
    "\n",
    "\n",
    "    \n",
    "\n",
    "sig_dir =      '../afp_data/' + sig_type + '/' +  size_tag + '/rps_data/'\n",
    "fac_data_dir=  '../afp_data/' + sig_type + '/' +  size_tag + '/factor_exposure_data/'\n",
    "fac_ret_file = '../afp_data/' + sig_type + '/' +  size_tag + '/fac_ret_file.csv'"
   ]
  },
  {
   "cell_type": "code",
   "execution_count": 5,
   "metadata": {
    "collapsed": false
   },
   "outputs": [],
   "source": [
    "use_pickle = True \n",
    "\n",
    "if use_pickle :\n",
    "    file_name = '../afp_pickle/'+'sig_'+sig_type +'_'+size_tag +'.pkl' \n",
    "    sig_df = pd.read_pickle(file_name)\n",
    "    #sig_df = pd.read_pickle('../afp_pickle/_rank_0_500.pkl')\n",
    "else :\n",
    "    sig_df = pd.DataFrame()\n",
    "    sig_files = os.listdir(sig_dir)\n",
    "    sig_files = np.sort(sig_files)\n",
    "\n",
    "\n",
    "\n",
    "    for sig_file in sig_files :\n",
    "        if '.csv' not in sig_file :\n",
    "            continue\n",
    "        print(sig_file)\n",
    "        this_file = sig_dir + sig_file\n",
    "        this_df = pd.read_csv(this_file, index_col = 'date')\n",
    "        this_df.index = [ datetime.datetime.strptime(val, '%Y-%m-%d') for val in this_df.index]\n",
    "        #this_df = this_df.sort_values(['mve'], ascending=False)\n",
    "        #this_df = this_df.iloc[start_stock_ind:end_stock_ind,:]\n",
    "        sig_df = sig_df.append(this_df)\n",
    "    #data = sig_df.copy()\n",
    "    "
   ]
  },
  {
   "cell_type": "code",
   "execution_count": 6,
   "metadata": {
    "collapsed": true
   },
   "outputs": [],
   "source": [
    "begin_date = datetime.datetime.strptime('19900101', '%Y%m%d')\n",
    "end_date = datetime.datetime.strptime('20170101', '%Y%m%d')\n",
    "\n",
    "sig_df = sig_df[(sig_df.index>=begin_date) & (sig_df.index<end_date)]\n",
    "sig_df = sig_df.fillna(sig_df.mean())"
   ]
  },
  {
   "cell_type": "code",
   "execution_count": 7,
   "metadata": {
    "collapsed": false
   },
   "outputs": [
    {
     "data": {
      "text/plain": [
       "True"
      ]
     },
     "execution_count": 7,
     "metadata": {},
     "output_type": "execute_result"
    }
   ],
   "source": [
    "'res_ret' in sig_df.columns"
   ]
  },
  {
   "cell_type": "code",
   "execution_count": 8,
   "metadata": {
    "collapsed": false
   },
   "outputs": [],
   "source": [
    "#factor_names =  ['beta','mve', 'bm', 'roic', 'agr', 'mom12m', 'idiovol']\n",
    "factor_names =  ['beta']\n",
    "sig_names = get_signal_names()\n",
    "ret = sig_df['ret']\n",
    "sig_df = sig_df[sig_names]\n",
    "sig_df = sig_df.drop(factor_names, axis=1)"
   ]
  },
  {
   "cell_type": "code",
   "execution_count": 9,
   "metadata": {
    "collapsed": false
   },
   "outputs": [
    {
     "data": {
      "text/plain": [
       "False"
      ]
     },
     "execution_count": 9,
     "metadata": {},
     "output_type": "execute_result"
    }
   ],
   "source": [
    "'res_ret' in sig_df.columns"
   ]
  },
  {
   "cell_type": "code",
   "execution_count": 10,
   "metadata": {
    "collapsed": false
   },
   "outputs": [
    {
     "name": "stdout",
     "output_type": "stream",
     "text": [
      "--------\n"
     ]
    }
   ],
   "source": [
    "\n",
    "pm = PortfolioOptimizer(fac_data_dir=fac_data_dir,\n",
    "                        fac_ret_file = fac_ret_file,\n",
    "                        fac_cov_hl = 12.0,\n",
    "                        fac_names = None\n",
    "                       )\n",
    "\n"
   ]
  },
  {
   "cell_type": "code",
   "execution_count": 11,
   "metadata": {
    "collapsed": true
   },
   "outputs": [],
   "source": [
    "#new_sig_df = pd.DataFrame()\n",
    "\n",
    "#for sig_name in sig_df.columns :\n",
    "#    this_sig = sig_df[sig_name]\n",
    "#    this_sig = pm.neu_signal(this_sig)\n",
    "#    this_sig = this_sig.fillna(this_sig.mean())\n",
    "#    new_sig_df[sig_name] = this_sig\n",
    "#sig_df = new_sig_df"
   ]
  },
  {
   "cell_type": "code",
   "execution_count": 12,
   "metadata": {
    "collapsed": false
   },
   "outputs": [
    {
     "data": {
      "text/plain": [
       "array([], dtype=int64)"
      ]
     },
     "execution_count": 12,
     "metadata": {},
     "output_type": "execute_result"
    }
   ],
   "source": [
    "np.where( sig_df.isnull().any() ) [0]"
   ]
  },
  {
   "cell_type": "code",
   "execution_count": null,
   "metadata": {
    "collapsed": true
   },
   "outputs": [],
   "source": []
  },
  {
   "cell_type": "code",
   "execution_count": null,
   "metadata": {
    "collapsed": true
   },
   "outputs": [],
   "source": [
    "look_back =12\n",
    "sample_decay = 0.5\n",
    "num_sig_vec = range(5,80,5)"
   ]
  },
  {
   "cell_type": "code",
   "execution_count": null,
   "metadata": {
    "collapsed": false
   },
   "outputs": [
    {
     "name": "stdout",
     "output_type": "stream",
     "text": [
      "inside\n",
      "1991-01-31 00:00:00\n",
      "1991-02-28 00:00:00\n",
      "1991-03-28 00:00:00\n",
      "1991-04-30 00:00:00\n",
      "1991-05-31 00:00:00\n",
      "1991-06-28 00:00:00\n",
      "1991-07-31 00:00:00\n",
      "1991-08-30 00:00:00\n",
      "1991-09-30 00:00:00\n",
      "1991-10-31 00:00:00\n",
      "1991-11-29 00:00:00\n",
      "1991-12-31 00:00:00\n",
      "1992-01-31 00:00:00\n",
      "1992-02-28 00:00:00\n",
      "1992-03-31 00:00:00\n",
      "1992-04-30 00:00:00\n",
      "1992-05-29 00:00:00\n",
      "1992-06-30 00:00:00\n",
      "1992-07-31 00:00:00\n",
      "1992-08-31 00:00:00\n",
      "1992-09-30 00:00:00\n",
      "1992-10-30 00:00:00\n",
      "1992-11-30 00:00:00\n",
      "1992-12-31 00:00:00\n",
      "1993-01-29 00:00:00\n",
      "1993-02-26 00:00:00\n",
      "1993-03-31 00:00:00\n",
      "1993-04-30 00:00:00\n",
      "1993-05-28 00:00:00\n",
      "1993-06-30 00:00:00\n",
      "1993-07-30 00:00:00\n",
      "1993-08-31 00:00:00\n",
      "1993-09-30 00:00:00\n",
      "1993-10-29 00:00:00\n",
      "1993-11-30 00:00:00\n",
      "1993-12-31 00:00:00\n"
     ]
    }
   ],
   "source": [
    "signs_dict = get_signal_signs_2()\n",
    "signs_vec = []\n",
    "\n",
    "for i in   sig_df.columns :\n",
    "    signs_vec.append(signs_dict[i])\n",
    "\n",
    "glm_sig_df, sig_names = get_glmnet_sig(sig_df, ret, look_back = look_back,sample_decay =sample_decay,\n",
    "                                       num_sig_vec =num_sig_vec, alpha = 0.5, signs_vec = signs_vec )\n",
    "\n"
   ]
  },
  {
   "cell_type": "code",
   "execution_count": null,
   "metadata": {
    "collapsed": false
   },
   "outputs": [],
   "source": []
  },
  {
   "cell_type": "code",
   "execution_count": null,
   "metadata": {
    "collapsed": false
   },
   "outputs": [],
   "source": [
    "pnl_df = pd.DataFrame()\n",
    "for i in range( glm_sig_df.shape[1]):\n",
    "    print(i)\n",
    "    glm_pnl_sr = pm.run_signal(sig_sr=glm_sig_df.iloc[:,i],neu_sig=True)\n",
    "    pnl_df[num_sig_vec[i]] = glm_pnl_sr"
   ]
  },
  {
   "cell_type": "code",
   "execution_count": null,
   "metadata": {
    "collapsed": false
   },
   "outputs": [],
   "source": [
    "window = 12\n",
    "#pnl_df_avg = ( pnl_df.rolling(window=window).mean()*sqrt(12) ) /( pnl_df.rolling(window=window).std() )\n",
    "pnl_df_avg = ( pnl_df.rolling(window=window).mean()*sqrt(12) )    \n",
    "max_ind = pnl_df_avg.idxmax(axis=1)\n",
    "min_ind = pnl_df_avg.idxmin(axis=1)\n",
    "max_ind_smt = max_ind.ewm(halflife=window).mean()\n",
    "\n",
    "rcParams['figure.figsize'] = 20,10\n",
    "max_ind_smt.plot()"
   ]
  },
  {
   "cell_type": "code",
   "execution_count": null,
   "metadata": {
    "collapsed": false
   },
   "outputs": [],
   "source": [
    "(pnl_df_avg.iloc[:,-1] - pnl_df_avg.iloc[:,0] ).plot()"
   ]
  },
  {
   "cell_type": "code",
   "execution_count": null,
   "metadata": {
    "collapsed": false
   },
   "outputs": [],
   "source": [
    "pnl_df.mean(axis=0)*sqrt(12)/pnl_df.std(axis=0)"
   ]
  },
  {
   "cell_type": "code",
   "execution_count": null,
   "metadata": {
    "collapsed": false
   },
   "outputs": [],
   "source": [
    "window = 24\n",
    "tc = (0.001/12.0)\n",
    "\n",
    "#pnl_df_avg = ( pnl_df.rolling(window=window).mean()*sqrt(12) ) /( pnl_df.rolling(window=window).std() )\n",
    "pnl_df_avg = ( pnl_df.rolling(window=window).mean()*sqrt(12) )    \n",
    "pnl_df_avg = pnl_df_avg - ( np.array(num_sig_vec)*tc )\n",
    "max_ind = pnl_df_avg.idxmax(axis=1)\n",
    "min_ind = pnl_df_avg.idxmin(axis=1)\n",
    "max_ind_smt = max_ind.ewm(halflife=24).mean()\n",
    "\n",
    "rcParams['figure.figsize'] = 20,10\n",
    "max_ind_smt.plot()"
   ]
  },
  {
   "cell_type": "code",
   "execution_count": null,
   "metadata": {
    "collapsed": false
   },
   "outputs": [],
   "source": []
  },
  {
   "cell_type": "code",
   "execution_count": null,
   "metadata": {
    "collapsed": false
   },
   "outputs": [],
   "source": [
    "(pnl_df_avg.max(axis=1) - pnl_df_avg.iloc[:,0] ).plot()"
   ]
  },
  {
   "cell_type": "code",
   "execution_count": null,
   "metadata": {
    "collapsed": false
   },
   "outputs": [],
   "source": [
    "tc = (0.0005/12.0)\n",
    "m_r = pnl_df.mean(axis=0) - np.array(num_sig_vec)*tc"
   ]
  },
  {
   "cell_type": "code",
   "execution_count": null,
   "metadata": {
    "collapsed": false
   },
   "outputs": [],
   "source": [
    "m_r.plot()"
   ]
  },
  {
   "cell_type": "code",
   "execution_count": null,
   "metadata": {
    "collapsed": false
   },
   "outputs": [],
   "source": [
    "pnl_df.cumsum().plot()"
   ]
  },
  {
   "cell_type": "code",
   "execution_count": null,
   "metadata": {
    "collapsed": true
   },
   "outputs": [],
   "source": []
  },
  {
   "cell_type": "code",
   "execution_count": null,
   "metadata": {
    "collapsed": true
   },
   "outputs": [],
   "source": []
  },
  {
   "cell_type": "code",
   "execution_count": null,
   "metadata": {
    "collapsed": true
   },
   "outputs": [],
   "source": []
  }
 ],
 "metadata": {
  "anaconda-cloud": {},
  "kernelspec": {
   "display_name": "Python [Root]",
   "language": "python",
   "name": "Python [Root]"
  },
  "language_info": {
   "codemirror_mode": {
    "name": "ipython",
    "version": 3
   },
   "file_extension": ".py",
   "mimetype": "text/x-python",
   "name": "python",
   "nbconvert_exporter": "python",
   "pygments_lexer": "ipython3",
   "version": "3.5.2"
  }
 },
 "nbformat": 4,
 "nbformat_minor": 2
}
