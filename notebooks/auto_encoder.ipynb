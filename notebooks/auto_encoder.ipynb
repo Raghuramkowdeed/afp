{
 "cells": [
  {
   "cell_type": "code",
   "execution_count": 1,
   "metadata": {
    "collapsed": false
   },
   "outputs": [],
   "source": [
    "import numpy as np\n",
    "import pandas as pd\n",
    "import os as os"
   ]
  },
  {
   "cell_type": "code",
   "execution_count": 2,
   "metadata": {
    "collapsed": true
   },
   "outputs": [],
   "source": [
    "os.chdir('../')"
   ]
  },
  {
   "cell_type": "code",
   "execution_count": 3,
   "metadata": {
    "collapsed": false
   },
   "outputs": [
    {
     "name": "stdout",
     "output_type": "stream",
     "text": [
      "Populating the interactive namespace from numpy and matplotlib\n"
     ]
    }
   ],
   "source": [
    "%pylab inline\n",
    "exec(open(\"./run_model.py\").read())\n",
    "exec(open(\"./get_signal_names.py\").read())\n",
    "exec(open(\"./portfolio_optimizer.py\").read())\n",
    "\n",
    "import datetime\n",
    "from pylab import rcParams\n"
   ]
  },
  {
   "cell_type": "code",
   "execution_count": 4,
   "metadata": {
    "collapsed": false
   },
   "outputs": [],
   "source": [
    "#sig_dir = '/Users/raghuramkowdeed/Desktop/afp_data/1000/ranked_rps_data/'\n",
    "#fac_data_dir='/Users/raghuramkowdeed/Desktop/afp_data/1000/factor_exposure_data/'\n",
    "#fac_ret_file = '/Users/raghuramkowdeed/Desktop/afp_data/1000/fac_ret_file.csv'\n",
    "\n",
    "sig_type = 'rank'\n",
    "#rank\n",
    "#norm\n",
    "size_tag = '500_3000'\n",
    "#0_3000\n",
    "#0_500\n",
    "#500_3000\n",
    "#use_pickle = True \n",
    "\n",
    "\n",
    "    \n",
    "\n",
    "sig_dir =      '../afp_data/' + sig_type + '/' +  size_tag + '/rps_data/'\n",
    "fac_data_dir=  '../afp_data/' + sig_type + '/' +  size_tag + '/factor_exposure_data/'\n",
    "fac_ret_file = '../afp_data/' + sig_type + '/' +  size_tag + '/fac_ret_file.csv'\n",
    "\n",
    "    "
   ]
  },
  {
   "cell_type": "code",
   "execution_count": 5,
   "metadata": {
    "collapsed": false
   },
   "outputs": [],
   "source": [
    "use_pickle = True \n",
    "\n",
    "if use_pickle :\n",
    "    file_name = '../afp_pickle/'+'sig_'+sig_type +'_'+size_tag +'.pkl' \n",
    "    sig_df = pd.read_pickle(file_name)\n",
    "    #sig_df = pd.read_pickle('../afp_pickle/_rank_0_500.pkl')\n",
    "else :\n",
    "    sig_df = pd.DataFrame()\n",
    "    sig_files = os.listdir(sig_dir)\n",
    "    sig_files = np.sort(sig_files)\n",
    "\n",
    "\n",
    "\n",
    "    for sig_file in sig_files :\n",
    "        if '.csv' not in sig_file :\n",
    "            continue\n",
    "        print(sig_file)\n",
    "        this_file = sig_dir + sig_file\n",
    "        this_df = pd.read_csv(this_file, index_col = 'date')\n",
    "        this_df.index = [ datetime.datetime.strptime(val, '%Y-%m-%d') for val in this_df.index]\n",
    "        #this_df = this_df.sort_values(['mve'], ascending=False)\n",
    "        #this_df = this_df.iloc[start_stock_ind:end_stock_ind,:]\n",
    "        sig_df = sig_df.append(this_df)\n",
    "    #data = sig_df.copy()"
   ]
  },
  {
   "cell_type": "code",
   "execution_count": 6,
   "metadata": {
    "collapsed": false
   },
   "outputs": [
    {
     "data": {
      "text/plain": [
       "'../afp_pickle/si'"
      ]
     },
     "execution_count": 6,
     "metadata": {},
     "output_type": "execute_result"
    }
   ],
   "source": [
    "'../afp_pickle/si'\n",
    "#model_name = 'pls_regression'\n",
    "#train_model_arg = { 'n_components':20, 'scale':True, 'max_iter':5000, 'tol':1e-08, 'copy':True }\n",
    "\n"
   ]
  },
  {
   "cell_type": "code",
   "execution_count": 7,
   "metadata": {
    "collapsed": true
   },
   "outputs": [],
   "source": [
    "begin_date = datetime.datetime.strptime('19900101', '%Y%m%d')\n",
    "end_date = datetime.datetime.strptime('20170101', '%Y%m%d')\n",
    "\n",
    "sig_df = sig_df[(sig_df.index>=begin_date) & (sig_df.index<end_date)]\n",
    "sig_df = sig_df.fillna(sig_df.mean())"
   ]
  },
  {
   "cell_type": "code",
   "execution_count": null,
   "metadata": {
    "collapsed": false
   },
   "outputs": [],
   "source": []
  },
  {
   "cell_type": "code",
   "execution_count": 8,
   "metadata": {
    "collapsed": false
   },
   "outputs": [
    {
     "data": {
      "text/plain": [
       "True"
      ]
     },
     "execution_count": 8,
     "metadata": {},
     "output_type": "execute_result"
    }
   ],
   "source": [
    "'res_ret' in sig_df.columns"
   ]
  },
  {
   "cell_type": "code",
   "execution_count": 9,
   "metadata": {
    "collapsed": false
   },
   "outputs": [],
   "source": [
    "#factor_names =  ['beta','mve', 'bm', 'roic', 'agr', 'mom12m', 'idiovol']\n",
    "factor_names =  ['beta']\n",
    "sig_names = get_signal_names()\n",
    "ret_sr = sig_df['ret']\n",
    "sig_df = sig_df[sig_names]\n",
    "sig_df = sig_df.drop(factor_names, axis=1)\n",
    "sig_df = sig_df.drop(['idiovol'], axis=1)\n",
    "ff_sig_df = sig_df[[ 'mve', 'bm', 'roic', 'agr', 'mom12m',]]"
   ]
  },
  {
   "cell_type": "code",
   "execution_count": 10,
   "metadata": {
    "collapsed": false
   },
   "outputs": [
    {
     "name": "stdout",
     "output_type": "stream",
     "text": [
      "--------\n"
     ]
    }
   ],
   "source": [
    "pm = PortfolioOptimizer(fac_data_dir=fac_data_dir,\n",
    "                        fac_ret_file = fac_ret_file,\n",
    "                        fac_cov_hl = 12.0,\n",
    "                        fac_names = None\n",
    "                       )"
   ]
  },
  {
   "cell_type": "code",
   "execution_count": 11,
   "metadata": {
    "collapsed": false
   },
   "outputs": [],
   "source": [
    "signs_dict = get_signal_signs()\n",
    "\n",
    "signs_vec = []\n",
    "\n",
    "for i in   ff_sig_df.columns :\n",
    "    signs_vec.append(signs_dict[i])"
   ]
  },
  {
   "cell_type": "code",
   "execution_count": 12,
   "metadata": {
    "collapsed": false
   },
   "outputs": [],
   "source": [
    "# pnl_df = pd.DataFrame()\n",
    "\n",
    "\n",
    "# #these_signals = ['mve', 'bm', 'roic', 'agr', 'mom12m',]\n",
    "# these_signals = sig_df.columns\n",
    "# sig_signs = get_signal_signs()\n",
    "\n",
    "# for sig_name in these_signals :\n",
    "#     print(sig_name)\n",
    "    \n",
    "#     try :\n",
    "#         #t0 = time.time()\n",
    "#         #print(sig_name)\n",
    "#         this_sign = sig_signs[sig_name]\n",
    "#         this_sig_sr = sig_df[ [sig_name] ].copy()*np.sign(this_sign)\n",
    "        \n",
    "#         #unmodified signal\n",
    "#         pnl_sr = pm.run_signal(this_sig_sr.iloc[:,0], neu_sig=True)\n",
    "#         pnl_df[sig_name] = pnl_sr\n",
    "#         print(pnl_sr.mean()*sqrt(12.0)/pnl_sr.std())\n",
    "        \n",
    "        \n",
    "#     except Exception as e :\n",
    "#         print(e)"
   ]
  },
  {
   "cell_type": "code",
   "execution_count": 13,
   "metadata": {
    "collapsed": true
   },
   "outputs": [],
   "source": [
    "look_back = 1\n",
    "sample_decay = 0.5"
   ]
  },
  {
   "cell_type": "code",
   "execution_count": 14,
   "metadata": {
    "collapsed": false
   },
   "outputs": [
    {
     "data": {
      "text/plain": [
       "[20, 20, 20, 20, 20, 5, 20, 20, 20, 20, 20]"
      ]
     },
     "execution_count": 14,
     "metadata": {},
     "output_type": "execute_result"
    }
   ],
   "source": [
    "num_dim = 5\n",
    "max_layer_size = 20\n",
    "num_layers = 5\n",
    "\n",
    "layer_sizes = []\n",
    "\n",
    "layer_sizes.extend([max_layer_size]*num_layers)\n",
    "layer_sizes.extend([num_dim])\n",
    "layer_sizes.extend([max_layer_size]*num_layers)\n",
    "layer_sizes"
   ]
  },
  {
   "cell_type": "code",
   "execution_count": 15,
   "metadata": {
    "collapsed": false
   },
   "outputs": [
    {
     "name": "stdout",
     "output_type": "stream",
     "text": [
      "1990-02-28 00:00:00\n",
      "1990-03-30 00:00:00\n",
      "1990-04-30 00:00:00\n",
      "1990-05-31 00:00:00\n",
      "1990-06-29 00:00:00\n",
      "1990-07-31 00:00:00\n",
      "1990-08-31 00:00:00\n",
      "1990-09-28 00:00:00\n",
      "1990-10-31 00:00:00\n",
      "1990-11-30 00:00:00\n",
      "1990-12-31 00:00:00\n",
      "1991-01-31 00:00:00\n",
      "1991-02-28 00:00:00\n",
      "1991-03-28 00:00:00\n",
      "1991-04-30 00:00:00\n",
      "1991-05-31 00:00:00\n",
      "1991-06-28 00:00:00\n",
      "1991-07-31 00:00:00\n",
      "1991-08-30 00:00:00\n",
      "1991-09-30 00:00:00\n",
      "1991-10-31 00:00:00\n",
      "1991-11-29 00:00:00\n",
      "1991-12-31 00:00:00\n",
      "1992-01-31 00:00:00\n",
      "1992-02-28 00:00:00\n",
      "1992-03-31 00:00:00\n",
      "1992-04-30 00:00:00\n",
      "1992-05-29 00:00:00\n",
      "1992-06-30 00:00:00\n",
      "1992-07-31 00:00:00\n",
      "1992-08-31 00:00:00\n",
      "1992-09-30 00:00:00\n",
      "1992-10-30 00:00:00\n",
      "1992-11-30 00:00:00\n",
      "1992-12-31 00:00:00\n",
      "1993-01-29 00:00:00\n",
      "1993-02-26 00:00:00\n",
      "1993-03-31 00:00:00\n",
      "1993-04-30 00:00:00\n",
      "1993-05-28 00:00:00\n",
      "1993-06-30 00:00:00\n",
      "1993-07-30 00:00:00\n",
      "1993-08-31 00:00:00\n",
      "1993-09-30 00:00:00\n",
      "1993-10-29 00:00:00\n",
      "1993-11-30 00:00:00\n",
      "1993-12-31 00:00:00\n",
      "1994-01-31 00:00:00\n",
      "1994-02-28 00:00:00\n",
      "1994-03-31 00:00:00\n",
      "1994-04-29 00:00:00\n",
      "1994-05-31 00:00:00\n",
      "1994-06-30 00:00:00\n",
      "1994-07-29 00:00:00\n",
      "1994-08-31 00:00:00\n",
      "1994-09-30 00:00:00\n",
      "1994-10-31 00:00:00\n",
      "1994-11-30 00:00:00\n",
      "1994-12-30 00:00:00\n",
      "1995-01-31 00:00:00\n",
      "1995-02-28 00:00:00\n",
      "1995-03-31 00:00:00\n",
      "1995-04-28 00:00:00\n",
      "1995-05-31 00:00:00\n",
      "1995-06-30 00:00:00\n",
      "1995-07-31 00:00:00\n",
      "1995-08-31 00:00:00\n",
      "1995-09-29 00:00:00\n",
      "1995-10-31 00:00:00\n",
      "1995-11-30 00:00:00\n",
      "1995-12-29 00:00:00\n",
      "1996-01-31 00:00:00\n",
      "1996-02-29 00:00:00\n",
      "1996-03-29 00:00:00\n",
      "1996-04-30 00:00:00\n",
      "1996-05-31 00:00:00\n",
      "1996-06-28 00:00:00\n",
      "1996-07-31 00:00:00\n",
      "1996-08-30 00:00:00\n",
      "1996-09-30 00:00:00\n",
      "1996-10-31 00:00:00\n",
      "1996-11-29 00:00:00\n",
      "1996-12-31 00:00:00\n",
      "1997-01-31 00:00:00\n",
      "1997-02-28 00:00:00\n",
      "1997-03-31 00:00:00\n",
      "1997-04-30 00:00:00\n",
      "1997-05-30 00:00:00\n",
      "1997-06-30 00:00:00\n",
      "1997-07-31 00:00:00\n",
      "1997-08-29 00:00:00\n",
      "1997-09-30 00:00:00\n",
      "1997-10-31 00:00:00\n",
      "1997-11-28 00:00:00\n",
      "1997-12-31 00:00:00\n",
      "1998-01-30 00:00:00\n",
      "1998-02-27 00:00:00\n",
      "1998-03-31 00:00:00\n",
      "1998-04-30 00:00:00\n",
      "1998-05-29 00:00:00\n",
      "1998-06-30 00:00:00\n",
      "1998-07-31 00:00:00\n",
      "1998-08-31 00:00:00\n",
      "1998-09-30 00:00:00\n",
      "1998-10-30 00:00:00\n",
      "1998-11-30 00:00:00\n",
      "1998-12-31 00:00:00\n",
      "1999-01-29 00:00:00\n",
      "1999-02-26 00:00:00\n",
      "1999-03-31 00:00:00\n",
      "1999-04-30 00:00:00\n",
      "1999-05-28 00:00:00\n",
      "1999-06-30 00:00:00\n",
      "1999-07-30 00:00:00\n",
      "1999-08-31 00:00:00\n",
      "1999-09-30 00:00:00\n",
      "1999-10-29 00:00:00\n",
      "1999-11-30 00:00:00\n",
      "1999-12-31 00:00:00\n",
      "2000-01-31 00:00:00\n",
      "2000-02-29 00:00:00\n",
      "2000-03-31 00:00:00\n",
      "2000-04-28 00:00:00\n",
      "2000-05-31 00:00:00\n",
      "2000-06-30 00:00:00\n",
      "2000-07-31 00:00:00\n",
      "2000-08-31 00:00:00\n",
      "2000-09-29 00:00:00\n",
      "2000-10-31 00:00:00\n",
      "2000-11-30 00:00:00\n",
      "2000-12-29 00:00:00\n",
      "2001-01-31 00:00:00\n",
      "2001-02-28 00:00:00\n",
      "2001-03-30 00:00:00\n",
      "2001-04-30 00:00:00\n",
      "2001-05-31 00:00:00\n",
      "2001-06-29 00:00:00\n",
      "2001-07-31 00:00:00\n",
      "2001-08-31 00:00:00\n",
      "2001-09-28 00:00:00\n",
      "2001-10-31 00:00:00\n",
      "2001-11-30 00:00:00\n",
      "2001-12-31 00:00:00\n",
      "2002-01-31 00:00:00\n",
      "2002-02-28 00:00:00\n",
      "2002-03-28 00:00:00\n",
      "2002-04-30 00:00:00\n",
      "2002-05-31 00:00:00\n",
      "2002-06-28 00:00:00\n",
      "2002-07-31 00:00:00\n",
      "2002-08-30 00:00:00\n",
      "2002-09-30 00:00:00\n",
      "2002-10-31 00:00:00\n",
      "2002-11-29 00:00:00\n",
      "2002-12-31 00:00:00\n",
      "2003-01-31 00:00:00\n",
      "2003-02-28 00:00:00\n",
      "2003-03-31 00:00:00\n",
      "2003-04-30 00:00:00\n",
      "2003-05-30 00:00:00\n",
      "2003-06-30 00:00:00\n",
      "2003-07-31 00:00:00\n",
      "2003-08-29 00:00:00\n",
      "2003-09-30 00:00:00\n",
      "2003-10-31 00:00:00\n",
      "2003-11-28 00:00:00\n",
      "2003-12-31 00:00:00\n",
      "2004-01-30 00:00:00\n",
      "2004-02-27 00:00:00\n",
      "2004-03-31 00:00:00\n",
      "2004-04-30 00:00:00\n",
      "2004-05-28 00:00:00\n",
      "2004-06-30 00:00:00\n",
      "2004-07-30 00:00:00\n",
      "2004-08-31 00:00:00\n",
      "2004-09-30 00:00:00\n",
      "2004-10-29 00:00:00\n",
      "2004-11-30 00:00:00\n",
      "2004-12-31 00:00:00\n",
      "2005-01-31 00:00:00\n",
      "2005-02-28 00:00:00\n",
      "2005-03-31 00:00:00\n",
      "2005-04-29 00:00:00\n",
      "2005-05-31 00:00:00\n",
      "2005-06-30 00:00:00\n",
      "2005-07-29 00:00:00\n",
      "2005-08-31 00:00:00\n",
      "2005-09-30 00:00:00\n",
      "2005-10-31 00:00:00\n",
      "2005-11-30 00:00:00\n",
      "2005-12-30 00:00:00\n",
      "2006-01-31 00:00:00\n",
      "2006-02-28 00:00:00\n",
      "2006-03-31 00:00:00\n",
      "2006-04-28 00:00:00\n",
      "2006-05-31 00:00:00\n",
      "2006-06-30 00:00:00\n",
      "2006-07-31 00:00:00\n",
      "2006-08-31 00:00:00\n",
      "2006-09-29 00:00:00\n",
      "2006-10-31 00:00:00\n",
      "2006-11-30 00:00:00\n",
      "2006-12-29 00:00:00\n",
      "2007-01-31 00:00:00\n",
      "2007-02-28 00:00:00\n",
      "2007-03-30 00:00:00\n",
      "2007-04-30 00:00:00\n",
      "2007-05-31 00:00:00\n",
      "2007-06-29 00:00:00\n",
      "2007-07-31 00:00:00\n",
      "2007-08-31 00:00:00\n",
      "2007-09-28 00:00:00\n",
      "2007-10-31 00:00:00\n",
      "2007-11-30 00:00:00\n",
      "2007-12-31 00:00:00\n",
      "2008-01-31 00:00:00\n",
      "2008-02-29 00:00:00\n",
      "2008-03-31 00:00:00\n",
      "2008-04-30 00:00:00\n",
      "2008-05-30 00:00:00\n",
      "2008-06-30 00:00:00\n",
      "2008-07-31 00:00:00\n",
      "2008-08-29 00:00:00\n",
      "2008-09-30 00:00:00\n",
      "2008-10-31 00:00:00\n",
      "2008-11-28 00:00:00\n",
      "2008-12-31 00:00:00\n",
      "2009-01-30 00:00:00\n",
      "2009-02-27 00:00:00\n",
      "2009-03-31 00:00:00\n",
      "2009-04-30 00:00:00\n",
      "2009-05-29 00:00:00\n",
      "2009-06-30 00:00:00\n",
      "2009-07-31 00:00:00\n",
      "2009-08-31 00:00:00\n",
      "2009-09-30 00:00:00\n",
      "2009-10-30 00:00:00\n",
      "2009-11-30 00:00:00\n",
      "2009-12-31 00:00:00\n",
      "2010-01-29 00:00:00\n",
      "2010-02-26 00:00:00\n",
      "2010-03-31 00:00:00\n",
      "2010-04-30 00:00:00\n",
      "2010-05-28 00:00:00\n",
      "2010-06-30 00:00:00\n",
      "2010-07-30 00:00:00\n",
      "2010-08-31 00:00:00\n",
      "2010-09-30 00:00:00\n",
      "2010-10-29 00:00:00\n",
      "2010-11-30 00:00:00\n",
      "2010-12-31 00:00:00\n",
      "2011-01-31 00:00:00\n",
      "2011-02-28 00:00:00\n",
      "2011-03-31 00:00:00\n",
      "2011-04-29 00:00:00\n",
      "2011-05-31 00:00:00\n",
      "2011-06-30 00:00:00\n",
      "2011-07-29 00:00:00\n",
      "2011-08-31 00:00:00\n",
      "2011-09-30 00:00:00\n",
      "2011-10-31 00:00:00\n",
      "2011-11-30 00:00:00\n",
      "2011-12-30 00:00:00\n",
      "2012-01-31 00:00:00\n",
      "2012-02-29 00:00:00\n",
      "2012-03-30 00:00:00\n",
      "2012-04-30 00:00:00\n",
      "2012-05-31 00:00:00\n",
      "2012-06-29 00:00:00\n",
      "2012-07-31 00:00:00\n",
      "2012-08-31 00:00:00\n",
      "2012-09-28 00:00:00\n",
      "2012-10-31 00:00:00\n",
      "2012-11-30 00:00:00\n",
      "2012-12-31 00:00:00\n",
      "2013-01-31 00:00:00\n",
      "2013-02-28 00:00:00\n",
      "2013-03-28 00:00:00\n",
      "2013-04-30 00:00:00\n",
      "2013-05-31 00:00:00\n",
      "2013-06-28 00:00:00\n",
      "2013-07-31 00:00:00\n",
      "2013-08-30 00:00:00\n",
      "2013-09-30 00:00:00\n",
      "2013-10-31 00:00:00\n",
      "2013-11-29 00:00:00\n",
      "2013-12-31 00:00:00\n",
      "2014-01-31 00:00:00\n",
      "2014-02-28 00:00:00\n",
      "2014-03-31 00:00:00\n",
      "2014-04-30 00:00:00\n",
      "2014-05-30 00:00:00\n",
      "2014-06-30 00:00:00\n",
      "2014-07-31 00:00:00\n",
      "2014-08-29 00:00:00\n",
      "2014-09-30 00:00:00\n",
      "2014-10-31 00:00:00\n",
      "2014-11-28 00:00:00\n",
      "2014-12-31 00:00:00\n",
      "2015-01-30 00:00:00\n",
      "2015-02-27 00:00:00\n",
      "2015-03-31 00:00:00\n",
      "2015-04-30 00:00:00\n",
      "2015-05-29 00:00:00\n",
      "2015-06-30 00:00:00\n",
      "2015-07-31 00:00:00\n",
      "2015-08-31 00:00:00\n",
      "2015-09-30 00:00:00\n",
      "2015-10-30 00:00:00\n",
      "2015-11-30 00:00:00\n",
      "2015-12-31 00:00:00\n",
      "2016-01-29 00:00:00\n",
      "2016-02-29 00:00:00\n",
      "2016-03-31 00:00:00\n",
      "2016-04-29 00:00:00\n",
      "2016-05-31 00:00:00\n",
      "2016-06-30 00:00:00\n",
      "2016-07-29 00:00:00\n",
      "2016-08-31 00:00:00\n",
      "2016-09-30 00:00:00\n",
      "2016-10-31 00:00:00\n",
      "2016-11-30 00:00:00\n",
      "2016-12-30 00:00:00\n",
      "-----------\n",
      "-----------\n",
      "sharpe ratio = 0.524703322274\n"
     ]
    },
    {
     "data": {
      "text/plain": [
       "<matplotlib.text.Text at 0x11b7046a0>"
      ]
     },
     "execution_count": 15,
     "metadata": {},
     "output_type": "execute_result"
    },
    {
     "data": {
      "image/png": "[encoded data removed]",
      "text/plain": [
       "<matplotlib.figure.Figure at 0x147afa198>"
      ]
     },
     "metadata": {},
     "output_type": "display_data"
    }
   ],
   "source": [
    "model_name = 'neural_net'\n",
    "train_model_arg = None\n",
    "\n",
    "\n",
    "\n",
    "\n",
    "train_model_arg = { 'hidden_layer_sizes':layer_sizes, \n",
    "                   'activation':'relu', \n",
    "                   'solver':'lbfgs', \n",
    "                   'alpha':0.00001,  \n",
    "                   }\n",
    "\n",
    "signs_dict = get_signal_signs()\n",
    "\n",
    "signs_vec = []\n",
    "\n",
    "for i in   sig_df.columns :\n",
    "    signs_vec.append(signs_dict[i])\n",
    "\n",
    "all_nn_sig_sr, all_nn_model_vec = run_model( sig_df, ret_sr, model_name, train_model_arg=train_model_arg, \n",
    "                          pred_model_arg ={},look_back=look_back, sample_decay = sample_decay, signs_vec=signs_vec)\n",
    "all_nn_pnl_sr = pm.run_signal(all_nn_sig_sr, neu_sig=True)\n",
    "all_nn_pnl_sr.cumsum().plot()\n",
    "all_nn_shrp = all_nn_pnl_sr.mean()*sqrt(12)/all_nn_pnl_sr.std()\n",
    "print( 'sharpe ratio = ' + str(all_nn_shrp) )\n",
    "pylab.title('nn_all')"
   ]
  },
  {
   "cell_type": "code",
   "execution_count": null,
   "metadata": {
    "collapsed": true
   },
   "outputs": [],
   "source": [
    "all_nn_pnl_sr.to_csv('../encoder_'+str(num_dim)+'.csv')"
   ]
  }
 ],
 "metadata": {
  "anaconda-cloud": {},
  "kernelspec": {
   "display_name": "Python [Root]",
   "language": "python",
   "name": "Python [Root]"
  },
  "language_info": {
   "codemirror_mode": {
    "name": "ipython",
    "version": 3
   },
   "file_extension": ".py",
   "mimetype": "text/x-python",
   "name": "python",
   "nbconvert_exporter": "python",
   "pygments_lexer": "ipython3",
   "version": "3.5.2"
  }
 },
 "nbformat": 4,
 "nbformat_minor": 2
}
