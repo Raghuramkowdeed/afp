{
 "cells": [
  {
   "cell_type": "code",
   "execution_count": 1,
   "metadata": {
    "collapsed": false
   },
   "outputs": [],
   "source": [
    "import numpy as np\n",
    "import pandas as pd\n",
    "import os as os"
   ]
  },
  {
   "cell_type": "code",
   "execution_count": 2,
   "metadata": {
    "collapsed": true
   },
   "outputs": [],
   "source": [
    "os.chdir('/Users/raghuramkowdeed/Documents/afp/')"
   ]
  },
  {
   "cell_type": "code",
   "execution_count": 3,
   "metadata": {
    "collapsed": false
   },
   "outputs": [
    {
     "name": "stdout",
     "output_type": "stream",
     "text": [
      "Populating the interactive namespace from numpy and matplotlib\n"
     ]
    }
   ],
   "source": [
    "%pylab inline\n",
    "exec(open(\"./run_model.py\").read())\n",
    "exec(open(\"./get_signal_names.py\").read())\n",
    "exec(open(\"./portfolio_optimizer.py\").read())\n",
    "\n",
    "import datetime\n",
    "from pylab import rcParams\n"
   ]
  },
  {
   "cell_type": "code",
   "execution_count": 4,
   "metadata": {
    "collapsed": true
   },
   "outputs": [],
   "source": [
    "#sig_dir = '/Users/raghuramkowdeed/Desktop/afp_data/1000/ranked_rps_data/'\n",
    "#fac_data_dir='/Users/raghuramkowdeed/Desktop/afp_data/1000/factor_exposure_data/'\n",
    "#fac_ret_file = '/Users/raghuramkowdeed/Desktop/afp_data/1000/fac_ret_file.csv'\n",
    "\n",
    "use_rank = True\n",
    "\n",
    "sig_dir = '/Users/raghuramkowdeed/Desktop/afp_data/rank/500/rps_data/'\n",
    "fac_data_dir='/Users/raghuramkowdeed/Desktop/afp_data/rank/500/factor_exposure_data/'\n",
    "fac_ret_file = '/Users/raghuramkowdeed/Desktop/afp_data/rank/500/fac_ret_file.csv'\n",
    "\n",
    "if not use_rank:\n",
    "    sig_dir = '/Users/raghuramkowdeed/Desktop/afp_data/norm/500/rps_data/'\n",
    "    fac_data_dir='/Users/raghuramkowdeed/Desktop/afp_data/norm/500/factor_exposure_data/'\n",
    "    fac_ret_file = '/Users/raghuramkowdeed/Desktop/afp_data/norm/500/fac_ret_file.csv'\n",
    "    "
   ]
  },
  {
   "cell_type": "code",
   "execution_count": 5,
   "metadata": {
    "collapsed": false
   },
   "outputs": [],
   "source": [
    "sig_df = pd.DataFrame()\n",
    "sig_files = os.listdir(sig_dir)\n",
    "sig_files = np.sort(sig_files)\n",
    "\n",
    "for sig_file in sig_files :\n",
    "    if '.csv' not in sig_file :\n",
    "        continue\n",
    "    #print(sig_file)\n",
    "    this_file = sig_dir + sig_file\n",
    "    this_df = pd.read_csv(this_file, index_col = 'date')\n",
    "    this_df.index = [ datetime.datetime.strptime(val, '%Y-%m-%d') for val in this_df.index]\n",
    "    sig_df = sig_df.append(this_df)\n",
    "data = sig_df.copy()"
   ]
  },
  {
   "cell_type": "code",
   "execution_count": 6,
   "metadata": {
    "collapsed": true
   },
   "outputs": [],
   "source": [
    "#model_name = 'linear_regression'\n",
    "#train_model_arg = { 'fit_intercept':True }\n",
    "\n",
    "model_name = 'pls_regression'\n",
    "train_model_arg = { 'n_components':20, 'scale':True, 'max_iter':5000, 'tol':1e-08, 'copy':True }\n",
    "\n",
    "look_back = 12"
   ]
  },
  {
   "cell_type": "code",
   "execution_count": 7,
   "metadata": {
    "collapsed": true
   },
   "outputs": [],
   "source": [
    "begin_date = datetime.datetime.strptime('19900101', '%Y%m%d')\n",
    "end_date = datetime.datetime.strptime('20170101', '%Y%m%d')\n",
    "\n",
    "sig_df = sig_df[(sig_df.index>=begin_date) & (sig_df.index<end_date)]\n",
    "sig_df = sig_df.fillna(sig_df.mean())"
   ]
  },
  {
   "cell_type": "code",
   "execution_count": null,
   "metadata": {
    "collapsed": false
   },
   "outputs": [],
   "source": []
  },
  {
   "cell_type": "code",
   "execution_count": 8,
   "metadata": {
    "collapsed": false
   },
   "outputs": [
    {
     "data": {
      "text/plain": [
       "True"
      ]
     },
     "execution_count": 8,
     "metadata": {},
     "output_type": "execute_result"
    }
   ],
   "source": [
    "'res_ret' in sig_df.columns"
   ]
  },
  {
   "cell_type": "code",
   "execution_count": 9,
   "metadata": {
    "collapsed": false
   },
   "outputs": [],
   "source": [
    "#factor_names =  ['beta','mve', 'bm', 'roic', 'agr', 'mom12m', 'idiovol']\n",
    "factor_names =  ['beta']\n",
    "sig_names = get_signal_names()\n",
    "ret_sr = sig_df['ret']\n",
    "sig_df = sig_df[sig_names]\n",
    "sig_df = sig_df.drop(factor_names, axis=1)\n",
    "sig_df = sig_df.drop(['idiovol'], axis=1)"
   ]
  },
  {
   "cell_type": "code",
   "execution_count": 10,
   "metadata": {
    "collapsed": true
   },
   "outputs": [],
   "source": [
    "model_sig_sr = run_model( sig_df, ret_sr, model_name, train_model_arg=train_model_arg, \n",
    "                          pred_model_arg ={},look_back=look_back)"
   ]
  },
  {
   "cell_type": "code",
   "execution_count": 11,
   "metadata": {
    "collapsed": false
   },
   "outputs": [
    {
     "name": "stdout",
     "output_type": "stream",
     "text": [
      "--------\n"
     ]
    }
   ],
   "source": [
    "pm = PortfolioOptimizer(fac_data_dir=fac_data_dir,\n",
    "                        fac_ret_file = fac_ret_file,\n",
    "                        fac_cov_hl = 12.0,\n",
    "                        fac_names = None\n",
    "                       )\n"
   ]
  },
  {
   "cell_type": "code",
   "execution_count": 12,
   "metadata": {
    "collapsed": true
   },
   "outputs": [],
   "source": [
    "pnl_sr = pm.run_signal(model_sig_sr, neu_sig=True)"
   ]
  },
  {
   "cell_type": "code",
   "execution_count": 13,
   "metadata": {
    "collapsed": false
   },
   "outputs": [
    {
     "name": "stdout",
     "output_type": "stream",
     "text": [
      "5.81999181912\n"
     ]
    },
    {
     "data": {
      "image/png": "[encoded data removed]",
      "text/plain": [
       "<matplotlib.figure.Figure at 0x11b3076d8>"
      ]
     },
     "metadata": {},
     "output_type": "display_data"
    }
   ],
   "source": [
    "pnl_sr.cumsum().plot()\n",
    "print( pnl_sr.mean()*sqrt(12)/model_sig_sr.std() )"
   ]
  },
  {
   "cell_type": "code",
   "execution_count": 14,
   "metadata": {
    "collapsed": false
   },
   "outputs": [
    {
     "data": {
      "text/plain": [
       "<matplotlib.axes._subplots.AxesSubplot at 0x11b306cf8>"
      ]
     },
     "execution_count": 14,
     "metadata": {},
     "output_type": "execute_result"
    },
    {
     "data": {
      "image/png": "[encoded data removed]",
      "text/plain": [
       "<matplotlib.figure.Figure at 0x11b2e91d0>"
      ]
     },
     "metadata": {},
     "output_type": "display_data"
    }
   ],
   "source": [
    "pnl_sr.cumsum().iloc[-120:].plot()"
   ]
  },
  {
   "cell_type": "code",
   "execution_count": null,
   "metadata": {
    "collapsed": true
   },
   "outputs": [],
   "source": []
  }
 ],
 "metadata": {
  "anaconda-cloud": {},
  "kernelspec": {
   "display_name": "Python [Root]",
   "language": "python",
   "name": "Python [Root]"
  },
  "language_info": {
   "codemirror_mode": {
    "name": "ipython",
    "version": 3
   },
   "file_extension": ".py",
   "mimetype": "text/x-python",
   "name": "python",
   "nbconvert_exporter": "python",
   "pygments_lexer": "ipython3",
   "version": "3.5.2"
  }
 },
 "nbformat": 4,
 "nbformat_minor": 2
}
