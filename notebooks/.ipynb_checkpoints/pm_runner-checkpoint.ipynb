{
 "cells": [
  {
   "cell_type": "code",
   "execution_count": 20,
   "metadata": {
    "collapsed": false,
    "scrolled": true
   },
   "outputs": [
    {
     "name": "stdout",
     "output_type": "stream",
     "text": [
      "Populating the interactive namespace from numpy and matplotlib\n"
     ]
    }
   ],
   "source": [
    "import numpy as np\n",
    "import pandas as pd\n",
    "np.set_printoptions(threshold=np.nan)\n",
    "from sklearn.preprocessing import scale\n",
    "from sklearn.linear_model import LinearRegression\n",
    "%pylab inline\n",
    "exec(open(\"/Users/raghuramkowdeed/Documents/afp/get_signal_names.py\").read())\n",
    "exec(open(\"/Users/raghuramkowdeed/Documents/afp/portfolio_optimizer.py\").read())\n",
    "exec(open(\"/Users/raghuramkowdeed/Documents/afp/non_linear_signal.py\").read())\n",
    "import datetime\n"
   ]
  },
  {
   "cell_type": "code",
   "execution_count": 2,
   "metadata": {
    "collapsed": true
   },
   "outputs": [],
   "source": [
    "sig_dir = '/Users/raghuramkowdeed/Desktop/afp_data/1000/ranked_rps_data/'"
   ]
  },
  {
   "cell_type": "code",
   "execution_count": 3,
   "metadata": {
    "collapsed": false
   },
   "outputs": [],
   "source": [
    "sig_df = pd.DataFrame()\n",
    "sig_files = os.listdir(sig_dir)\n",
    "sig_files = np.sort(sig_files)\n",
    "\n",
    "for sig_file in sig_files :\n",
    "    if '.csv' not in sig_file :\n",
    "        continue\n",
    "    #print(sig_file)\n",
    "    this_file = sig_dir + sig_file\n",
    "    this_df = pd.read_csv(this_file, index_col = 'date')\n",
    "    this_df.index = [ datetime.datetime.strptime(val, '%Y-%m-%d') for val in this_df.index]\n",
    "    this_df = ( this_df - this_df.mean() ) / this_df.std()\n",
    "    sig_df = sig_df.append(this_df)"
   ]
  },
  {
   "cell_type": "code",
   "execution_count": 4,
   "metadata": {
    "collapsed": true
   },
   "outputs": [],
   "source": [
    "begin_date = datetime.datetime.strptime('19900101', '%Y%m%d')\n",
    "end_date = datetime.datetime.strptime('20170101', '%Y%m%d')"
   ]
  },
  {
   "cell_type": "code",
   "execution_count": 5,
   "metadata": {
    "collapsed": true
   },
   "outputs": [],
   "source": [
    "sig_df = sig_df[(sig_df.index>=begin_date) & (sig_df.index<end_date)]"
   ]
  },
  {
   "cell_type": "code",
   "execution_count": 6,
   "metadata": {
    "collapsed": true
   },
   "outputs": [],
   "source": [
    "sig_name = 'sfe'\n",
    "this_sig_sr = sig_df[sig_name]"
   ]
  },
  {
   "cell_type": "code",
   "execution_count": null,
   "metadata": {
    "collapsed": false
   },
   "outputs": [],
   "source": []
  },
  {
   "cell_type": "code",
   "execution_count": null,
   "metadata": {
    "collapsed": true
   },
   "outputs": [],
   "source": []
  },
  {
   "cell_type": "code",
   "execution_count": 7,
   "metadata": {
    "collapsed": false
   },
   "outputs": [
    {
     "name": "stdout",
     "output_type": "stream",
     "text": [
      "--------\n"
     ]
    }
   ],
   "source": [
    "\n",
    "pm = PortfolioOptimizer(fac_data_dir='/Users/raghuramkowdeed/Desktop/afp_data/1000/factor_exposure_data/',\n",
    "                        fac_ret_file = '/Users/raghuramkowdeed/Desktop/afp_data/1000/fac_ret_file.csv',\n",
    "                        fac_cov_hl = 12.0,\n",
    "                        fac_names = ['beta']\n",
    "                       )\n",
    "\n"
   ]
  },
  {
   "cell_type": "code",
   "execution_count": null,
   "metadata": {
    "collapsed": true
   },
   "outputs": [],
   "source": [
    "this_sig_sr = pm.neu_signal(this_sig_sr)"
   ]
  },
  {
   "cell_type": "code",
   "execution_count": 8,
   "metadata": {
    "collapsed": false
   },
   "outputs": [],
   "source": [
    "pnl_sr_1 = pm.run_signal(sig_sr=this_sig_sr,neu_sig=False)\n",
    "pnl_sr_2 = pm.run_signal(sig_sr=this_sig_sr,neu_sig=True)"
   ]
  },
  {
   "cell_type": "code",
   "execution_count": 9,
   "metadata": {
    "collapsed": false
   },
   "outputs": [
    {
     "data": {
      "text/plain": [
       "-0.90664053037295567"
      ]
     },
     "execution_count": 9,
     "metadata": {},
     "output_type": "execute_result"
    },
    {
     "data": {
      "image/png": "[encoded data removed]",
      "text/plain": [
       "<matplotlib.figure.Figure at 0x11e305438>"
      ]
     },
     "metadata": {},
     "output_type": "display_data"
    }
   ],
   "source": [
    "pnl_sr_1.cumsum().plot()\n",
    "pnl_sr_1.mean()*np.sqrt(12)/pnl_sr_1.std()"
   ]
  },
  {
   "cell_type": "code",
   "execution_count": 10,
   "metadata": {
    "collapsed": false
   },
   "outputs": [
    {
     "data": {
      "text/plain": [
       "-1.6423745003285564"
      ]
     },
     "execution_count": 10,
     "metadata": {},
     "output_type": "execute_result"
    },
    {
     "data": {
      "image/png": "[encoded data removed]",
      "text/plain": [
       "<matplotlib.figure.Figure at 0x11dc91b70>"
      ]
     },
     "metadata": {},
     "output_type": "display_data"
    }
   ],
   "source": [
    "pnl_sr_2.cumsum().plot()\n",
    "pnl_sr_2.mean()*np.sqrt(12)/pnl_sr_2.std()"
   ]
  },
  {
   "cell_type": "code",
   "execution_count": 11,
   "metadata": {
    "collapsed": false
   },
   "outputs": [
    {
     "data": {
      "text/plain": [
       "<matplotlib.axes._subplots.AxesSubplot at 0x11dcb5f28>"
      ]
     },
     "execution_count": 11,
     "metadata": {},
     "output_type": "execute_result"
    },
    {
     "data": {
      "image/png": "[encoded data removed]",
      "text/plain": [
       "<matplotlib.figure.Figure at 0x11dc9e588>"
      ]
     },
     "metadata": {},
     "output_type": "display_data"
    }
   ],
   "source": [
    "pm.fac_ret.cumsum().plot()"
   ]
  },
  {
   "cell_type": "code",
   "execution_count": 12,
   "metadata": {
    "collapsed": true
   },
   "outputs": [],
   "source": [
    "corr_df = pd.read_csv('/Users/raghuramkowdeed/Desktop/knn_sharpe.csv')"
   ]
  },
  {
   "cell_type": "code",
   "execution_count": 13,
   "metadata": {
    "collapsed": false
   },
   "outputs": [
    {
     "data": {
      "text/html": [
       "<div>\n",
       "<table border=\"1\" class=\"dataframe\">\n",
       "  <thead>\n",
       "    <tr style=\"text-align: right;\">\n",
       "      <th></th>\n",
       "      <th>Unnamed: 0</th>\n",
       "      <th>knn</th>\n",
       "      <th>lm</th>\n",
       "    </tr>\n",
       "  </thead>\n",
       "  <tbody>\n",
       "    <tr>\n",
       "      <th>80</th>\n",
       "      <td>sfe</td>\n",
       "      <td>0.804099</td>\n",
       "      <td>0.501885</td>\n",
       "    </tr>\n",
       "    <tr>\n",
       "      <th>59</th>\n",
       "      <td>lev</td>\n",
       "      <td>0.512660</td>\n",
       "      <td>0.367734</td>\n",
       "    </tr>\n",
       "    <tr>\n",
       "      <th>96</th>\n",
       "      <td>sue</td>\n",
       "      <td>0.507897</td>\n",
       "      <td>-0.044669</td>\n",
       "    </tr>\n",
       "    <tr>\n",
       "      <th>14</th>\n",
       "      <td>cfp_ia</td>\n",
       "      <td>0.497992</td>\n",
       "      <td>0.032466</td>\n",
       "    </tr>\n",
       "    <tr>\n",
       "      <th>11</th>\n",
       "      <td>cashdebt</td>\n",
       "      <td>0.493653</td>\n",
       "      <td>0.108419</td>\n",
       "    </tr>\n",
       "    <tr>\n",
       "      <th>13</th>\n",
       "      <td>cfp</td>\n",
       "      <td>0.485899</td>\n",
       "      <td>0.205835</td>\n",
       "    </tr>\n",
       "    <tr>\n",
       "      <th>48</th>\n",
       "      <td>fgr5yr</td>\n",
       "      <td>0.455219</td>\n",
       "      <td>0.339687</td>\n",
       "    </tr>\n",
       "    <tr>\n",
       "      <th>91</th>\n",
       "      <td>roaq</td>\n",
       "      <td>0.448405</td>\n",
       "      <td>0.106701</td>\n",
       "    </tr>\n",
       "    <tr>\n",
       "      <th>18</th>\n",
       "      <td>chfeps</td>\n",
       "      <td>0.422464</td>\n",
       "      <td>0.011842</td>\n",
       "    </tr>\n",
       "    <tr>\n",
       "      <th>52</th>\n",
       "      <td>herf</td>\n",
       "      <td>0.419079</td>\n",
       "      <td>-0.056985</td>\n",
       "    </tr>\n",
       "    <tr>\n",
       "      <th>12</th>\n",
       "      <td>cashpr</td>\n",
       "      <td>0.397021</td>\n",
       "      <td>0.142365</td>\n",
       "    </tr>\n",
       "    <tr>\n",
       "      <th>6</th>\n",
       "      <td>beta</td>\n",
       "      <td>0.395238</td>\n",
       "      <td>0.295740</td>\n",
       "    </tr>\n",
       "    <tr>\n",
       "      <th>57</th>\n",
       "      <td>invest</td>\n",
       "      <td>0.384776</td>\n",
       "      <td>0.263791</td>\n",
       "    </tr>\n",
       "    <tr>\n",
       "      <th>72</th>\n",
       "      <td>roeq</td>\n",
       "      <td>0.381590</td>\n",
       "      <td>0.125232</td>\n",
       "    </tr>\n",
       "    <tr>\n",
       "      <th>7</th>\n",
       "      <td>betasq</td>\n",
       "      <td>0.378634</td>\n",
       "      <td>0.320492</td>\n",
       "    </tr>\n",
       "    <tr>\n",
       "      <th>9</th>\n",
       "      <td>bm_ia</td>\n",
       "      <td>0.377855</td>\n",
       "      <td>0.077634</td>\n",
       "    </tr>\n",
       "    <tr>\n",
       "      <th>98</th>\n",
       "      <td>tb</td>\n",
       "      <td>0.373974</td>\n",
       "      <td>0.014998</td>\n",
       "    </tr>\n",
       "    <tr>\n",
       "      <th>73</th>\n",
       "      <td>roic</td>\n",
       "      <td>0.357385</td>\n",
       "      <td>-0.055345</td>\n",
       "    </tr>\n",
       "    <tr>\n",
       "      <th>85</th>\n",
       "      <td>quick</td>\n",
       "      <td>0.353257</td>\n",
       "      <td>0.182996</td>\n",
       "    </tr>\n",
       "    <tr>\n",
       "      <th>47</th>\n",
       "      <td>ep</td>\n",
       "      <td>0.343559</td>\n",
       "      <td>0.266068</td>\n",
       "    </tr>\n",
       "    <tr>\n",
       "      <th>28</th>\n",
       "      <td>disp</td>\n",
       "      <td>0.332271</td>\n",
       "      <td>0.207863</td>\n",
       "    </tr>\n",
       "    <tr>\n",
       "      <th>1</th>\n",
       "      <td>acc</td>\n",
       "      <td>0.329300</td>\n",
       "      <td>0.081743</td>\n",
       "    </tr>\n",
       "    <tr>\n",
       "      <th>49</th>\n",
       "      <td>gma</td>\n",
       "      <td>0.327249</td>\n",
       "      <td>0.148926</td>\n",
       "    </tr>\n",
       "    <tr>\n",
       "      <th>90</th>\n",
       "      <td>retvol</td>\n",
       "      <td>0.315523</td>\n",
       "      <td>0.181974</td>\n",
       "    </tr>\n",
       "    <tr>\n",
       "      <th>83</th>\n",
       "      <td>sp</td>\n",
       "      <td>0.314623</td>\n",
       "      <td>0.255722</td>\n",
       "    </tr>\n",
       "    <tr>\n",
       "      <th>89</th>\n",
       "      <td>realestate</td>\n",
       "      <td>0.309308</td>\n",
       "      <td>0.051920</td>\n",
       "    </tr>\n",
       "    <tr>\n",
       "      <th>93</th>\n",
       "      <td>std_turn</td>\n",
       "      <td>0.309112</td>\n",
       "      <td>0.254690</td>\n",
       "    </tr>\n",
       "    <tr>\n",
       "      <th>20</th>\n",
       "      <td>chmom</td>\n",
       "      <td>0.309074</td>\n",
       "      <td>0.211751</td>\n",
       "    </tr>\n",
       "    <tr>\n",
       "      <th>26</th>\n",
       "      <td>currat</td>\n",
       "      <td>0.301346</td>\n",
       "      <td>0.108688</td>\n",
       "    </tr>\n",
       "    <tr>\n",
       "      <th>77</th>\n",
       "      <td>salerec</td>\n",
       "      <td>0.301200</td>\n",
       "      <td>0.105959</td>\n",
       "    </tr>\n",
       "    <tr>\n",
       "      <th>...</th>\n",
       "      <td>...</td>\n",
       "      <td>...</td>\n",
       "      <td>...</td>\n",
       "    </tr>\n",
       "    <tr>\n",
       "      <th>56</th>\n",
       "      <td>indmom</td>\n",
       "      <td>0.137938</td>\n",
       "      <td>-0.016137</td>\n",
       "    </tr>\n",
       "    <tr>\n",
       "      <th>37</th>\n",
       "      <td>pchsale_pchxsga</td>\n",
       "      <td>0.136891</td>\n",
       "      <td>-0.029666</td>\n",
       "    </tr>\n",
       "    <tr>\n",
       "      <th>42</th>\n",
       "      <td>divo</td>\n",
       "      <td>0.136516</td>\n",
       "      <td>-0.063487</td>\n",
       "    </tr>\n",
       "    <tr>\n",
       "      <th>27</th>\n",
       "      <td>depr</td>\n",
       "      <td>0.127237</td>\n",
       "      <td>0.139110</td>\n",
       "    </tr>\n",
       "    <tr>\n",
       "      <th>74</th>\n",
       "      <td>rsup</td>\n",
       "      <td>0.117151</td>\n",
       "      <td>-0.166037</td>\n",
       "    </tr>\n",
       "    <tr>\n",
       "      <th>63</th>\n",
       "      <td>mom1m</td>\n",
       "      <td>0.111605</td>\n",
       "      <td>-0.013349</td>\n",
       "    </tr>\n",
       "    <tr>\n",
       "      <th>32</th>\n",
       "      <td>pchcurrat</td>\n",
       "      <td>0.097399</td>\n",
       "      <td>-0.100701</td>\n",
       "    </tr>\n",
       "    <tr>\n",
       "      <th>36</th>\n",
       "      <td>pchsale_pchinvt</td>\n",
       "      <td>0.095849</td>\n",
       "      <td>-0.054457</td>\n",
       "    </tr>\n",
       "    <tr>\n",
       "      <th>86</th>\n",
       "      <td>rd</td>\n",
       "      <td>0.088948</td>\n",
       "      <td>0.028335</td>\n",
       "    </tr>\n",
       "    <tr>\n",
       "      <th>25</th>\n",
       "      <td>convind</td>\n",
       "      <td>0.087816</td>\n",
       "      <td>-0.030997</td>\n",
       "    </tr>\n",
       "    <tr>\n",
       "      <th>79</th>\n",
       "      <td>securedind</td>\n",
       "      <td>0.082184</td>\n",
       "      <td>0.005929</td>\n",
       "    </tr>\n",
       "    <tr>\n",
       "      <th>3</th>\n",
       "      <td>age</td>\n",
       "      <td>0.076050</td>\n",
       "      <td>0.180774</td>\n",
       "    </tr>\n",
       "    <tr>\n",
       "      <th>24</th>\n",
       "      <td>cinvest</td>\n",
       "      <td>0.074690</td>\n",
       "      <td>-0.089911</td>\n",
       "    </tr>\n",
       "    <tr>\n",
       "      <th>39</th>\n",
       "      <td>pctacc</td>\n",
       "      <td>0.066814</td>\n",
       "      <td>0.047006</td>\n",
       "    </tr>\n",
       "    <tr>\n",
       "      <th>55</th>\n",
       "      <td>ill</td>\n",
       "      <td>0.064691</td>\n",
       "      <td>-0.034097</td>\n",
       "    </tr>\n",
       "    <tr>\n",
       "      <th>94</th>\n",
       "      <td>stdacc</td>\n",
       "      <td>0.063845</td>\n",
       "      <td>-0.023300</td>\n",
       "    </tr>\n",
       "    <tr>\n",
       "      <th>60</th>\n",
       "      <td>lgr</td>\n",
       "      <td>0.052023</td>\n",
       "      <td>-0.030158</td>\n",
       "    </tr>\n",
       "    <tr>\n",
       "      <th>17</th>\n",
       "      <td>chempia</td>\n",
       "      <td>0.032326</td>\n",
       "      <td>-0.128051</td>\n",
       "    </tr>\n",
       "    <tr>\n",
       "      <th>2</th>\n",
       "      <td>aeavol</td>\n",
       "      <td>0.020972</td>\n",
       "      <td>-0.001577</td>\n",
       "    </tr>\n",
       "    <tr>\n",
       "      <th>76</th>\n",
       "      <td>saleinv</td>\n",
       "      <td>0.014134</td>\n",
       "      <td>-0.087852</td>\n",
       "    </tr>\n",
       "    <tr>\n",
       "      <th>16</th>\n",
       "      <td>chcsho</td>\n",
       "      <td>0.006899</td>\n",
       "      <td>-0.014159</td>\n",
       "    </tr>\n",
       "    <tr>\n",
       "      <th>69</th>\n",
       "      <td>nanalyst</td>\n",
       "      <td>0.000995</td>\n",
       "      <td>-0.104918</td>\n",
       "    </tr>\n",
       "    <tr>\n",
       "      <th>84</th>\n",
       "      <td>std_dolvol</td>\n",
       "      <td>-0.013097</td>\n",
       "      <td>-0.122021</td>\n",
       "    </tr>\n",
       "    <tr>\n",
       "      <th>95</th>\n",
       "      <td>stdcf</td>\n",
       "      <td>-0.022211</td>\n",
       "      <td>-0.006484</td>\n",
       "    </tr>\n",
       "    <tr>\n",
       "      <th>50</th>\n",
       "      <td>grcapx</td>\n",
       "      <td>-0.066845</td>\n",
       "      <td>0.049353</td>\n",
       "    </tr>\n",
       "    <tr>\n",
       "      <th>21</th>\n",
       "      <td>chnanalyst</td>\n",
       "      <td>-0.073049</td>\n",
       "      <td>0.047016</td>\n",
       "    </tr>\n",
       "    <tr>\n",
       "      <th>87</th>\n",
       "      <td>rd_mve</td>\n",
       "      <td>-0.081294</td>\n",
       "      <td>0.059194</td>\n",
       "    </tr>\n",
       "    <tr>\n",
       "      <th>67</th>\n",
       "      <td>mve</td>\n",
       "      <td>-0.091196</td>\n",
       "      <td>-0.190235</td>\n",
       "    </tr>\n",
       "    <tr>\n",
       "      <th>82</th>\n",
       "      <td>sin</td>\n",
       "      <td>-0.147587</td>\n",
       "      <td>-0.142380</td>\n",
       "    </tr>\n",
       "    <tr>\n",
       "      <th>78</th>\n",
       "      <td>secured</td>\n",
       "      <td>-0.261780</td>\n",
       "      <td>-0.004329</td>\n",
       "    </tr>\n",
       "  </tbody>\n",
       "</table>\n",
       "<p>101 rows × 3 columns</p>\n",
       "</div>"
      ],
      "text/plain": [
       "         Unnamed: 0       knn        lm\n",
       "80              sfe  0.804099  0.501885\n",
       "59              lev  0.512660  0.367734\n",
       "96              sue  0.507897 -0.044669\n",
       "14           cfp_ia  0.497992  0.032466\n",
       "11         cashdebt  0.493653  0.108419\n",
       "13              cfp  0.485899  0.205835\n",
       "48           fgr5yr  0.455219  0.339687\n",
       "91             roaq  0.448405  0.106701\n",
       "18           chfeps  0.422464  0.011842\n",
       "52             herf  0.419079 -0.056985\n",
       "12           cashpr  0.397021  0.142365\n",
       "6              beta  0.395238  0.295740\n",
       "57           invest  0.384776  0.263791\n",
       "72             roeq  0.381590  0.125232\n",
       "7            betasq  0.378634  0.320492\n",
       "9             bm_ia  0.377855  0.077634\n",
       "98               tb  0.373974  0.014998\n",
       "73             roic  0.357385 -0.055345\n",
       "85            quick  0.353257  0.182996\n",
       "47               ep  0.343559  0.266068\n",
       "28             disp  0.332271  0.207863\n",
       "1               acc  0.329300  0.081743\n",
       "49              gma  0.327249  0.148926\n",
       "90           retvol  0.315523  0.181974\n",
       "83               sp  0.314623  0.255722\n",
       "89       realestate  0.309308  0.051920\n",
       "93         std_turn  0.309112  0.254690\n",
       "20            chmom  0.309074  0.211751\n",
       "26           currat  0.301346  0.108688\n",
       "77          salerec  0.301200  0.105959\n",
       "..              ...       ...       ...\n",
       "56           indmom  0.137938 -0.016137\n",
       "37  pchsale_pchxsga  0.136891 -0.029666\n",
       "42             divo  0.136516 -0.063487\n",
       "27             depr  0.127237  0.139110\n",
       "74             rsup  0.117151 -0.166037\n",
       "63            mom1m  0.111605 -0.013349\n",
       "32        pchcurrat  0.097399 -0.100701\n",
       "36  pchsale_pchinvt  0.095849 -0.054457\n",
       "86               rd  0.088948  0.028335\n",
       "25          convind  0.087816 -0.030997\n",
       "79       securedind  0.082184  0.005929\n",
       "3               age  0.076050  0.180774\n",
       "24          cinvest  0.074690 -0.089911\n",
       "39           pctacc  0.066814  0.047006\n",
       "55              ill  0.064691 -0.034097\n",
       "94           stdacc  0.063845 -0.023300\n",
       "60              lgr  0.052023 -0.030158\n",
       "17          chempia  0.032326 -0.128051\n",
       "2            aeavol  0.020972 -0.001577\n",
       "76          saleinv  0.014134 -0.087852\n",
       "16           chcsho  0.006899 -0.014159\n",
       "69         nanalyst  0.000995 -0.104918\n",
       "84       std_dolvol -0.013097 -0.122021\n",
       "95            stdcf -0.022211 -0.006484\n",
       "50           grcapx -0.066845  0.049353\n",
       "21       chnanalyst -0.073049  0.047016\n",
       "87           rd_mve -0.081294  0.059194\n",
       "67              mve -0.091196 -0.190235\n",
       "82              sin -0.147587 -0.142380\n",
       "78          secured -0.261780 -0.004329\n",
       "\n",
       "[101 rows x 3 columns]"
      ]
     },
     "execution_count": 13,
     "metadata": {},
     "output_type": "execute_result"
    }
   ],
   "source": [
    "corr_df.sort_values(['knn'],ascending=False,)"
   ]
  },
  {
   "cell_type": "code",
   "execution_count": 14,
   "metadata": {
    "collapsed": false
   },
   "outputs": [],
   "source": [
    "sig_name = 'sfe'\n",
    "look_back = 6\n",
    "this_sig_sr = sig_df[sig_name]\n",
    "this_ret_sr = sig_df['ret']\n",
    "\n"
   ]
  },
  {
   "cell_type": "code",
   "execution_count": 21,
   "metadata": {
    "collapsed": false
   },
   "outputs": [
    {
     "name": "stdout",
     "output_type": "stream",
     "text": [
      "------\n"
     ]
    }
   ],
   "source": [
    "l_sig_sr = get_linear_sig(sig_sr=this_sig_sr, ret_sr=this_ret_sr, look_back=look_back)\n",
    "nl_knn_sig_sr = get_knn_non_linear_sig(sig_sr=this_sig_sr, ret_sr=this_ret_sr, look_back=look_back)\n",
    "nl_kernel_sig_sr = get_kernel_non_linear_sig(sig_sr=this_sig_sr, ret_sr=this_ret_sr,look_back=look_back, gamma= 0.5)\n",
    "print('------')"
   ]
  },
  {
   "cell_type": "code",
   "execution_count": 22,
   "metadata": {
    "collapsed": true
   },
   "outputs": [],
   "source": [
    "pnl_sr_l= pm.run_signal(sig_sr=l_sig_sr,neu_sig=True)\n",
    "pnl_sr_knn = pm.run_signal(sig_sr=nl_knn_sig_sr,neu_sig=True)\n",
    "pnl_sr_kernel = pm.run_signal(sig_sr=nl_kernel_sig_sr,neu_sig=True)"
   ]
  },
  {
   "cell_type": "code",
   "execution_count": 23,
   "metadata": {
    "collapsed": false
   },
   "outputs": [],
   "source": [
    "plot_df = pd.DataFrame()\n",
    "plot_df['lm'] = pnl_sr_l\n",
    "plot_df['knn'] = pnl_sr_knn\n",
    "plot_df['kernel'] = pnl_sr_kernel"
   ]
  },
  {
   "cell_type": "code",
   "execution_count": 24,
   "metadata": {
    "collapsed": false
   },
   "outputs": [
    {
     "data": {
      "text/plain": [
       "<matplotlib.axes._subplots.AxesSubplot at 0x11dc89438>"
      ]
     },
     "execution_count": 24,
     "metadata": {},
     "output_type": "execute_result"
    },
    {
     "data": {
      "image/png": "[encoded data removed]",
      "text/plain": [
       "<matplotlib.figure.Figure at 0x11dcadb00>"
      ]
     },
     "metadata": {},
     "output_type": "display_data"
    }
   ],
   "source": [
    "plot_df.cumsum().plot()"
   ]
  },
  {
   "cell_type": "code",
   "execution_count": 25,
   "metadata": {
    "collapsed": false
   },
   "outputs": [
    {
     "data": {
      "text/plain": [
       "<matplotlib.axes._subplots.AxesSubplot at 0x11d913278>"
      ]
     },
     "execution_count": 25,
     "metadata": {},
     "output_type": "execute_result"
    },
    {
     "data": {
      "image/png": "[encoded data removed]",
      "text/plain": [
       "<matplotlib.figure.Figure at 0x11dc9d908>"
      ]
     },
     "metadata": {},
     "output_type": "display_data"
    }
   ],
   "source": [
    "plot_df['lm'].cumsum().plot()"
   ]
  },
  {
   "cell_type": "code",
   "execution_count": null,
   "metadata": {
    "collapsed": false
   },
   "outputs": [],
   "source": [
    "pnl_df.mean(axis=0)*sqrt(12)/pnl_df.std()"
   ]
  },
  {
   "cell_type": "code",
   "execution_count": null,
   "metadata": {
    "collapsed": false
   },
   "outputs": [],
   "source": []
  },
  {
   "cell_type": "code",
   "execution_count": null,
   "metadata": {
    "collapsed": true
   },
   "outputs": [],
   "source": []
  }
 ],
 "metadata": {
  "anaconda-cloud": {},
  "kernelspec": {
   "display_name": "Python [Root]",
   "language": "python",
   "name": "Python [Root]"
  },
  "language_info": {
   "codemirror_mode": {
    "name": "ipython",
    "version": 3
   },
   "file_extension": ".py",
   "mimetype": "text/x-python",
   "name": "python",
   "nbconvert_exporter": "python",
   "pygments_lexer": "ipython3",
   "version": "3.5.2"
  }
 },
 "nbformat": 4,
 "nbformat_minor": 2
}
