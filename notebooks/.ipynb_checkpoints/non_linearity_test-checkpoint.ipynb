{
 "cells": [
  {
   "cell_type": "code",
   "execution_count": null,
   "metadata": {
    "collapsed": true
   },
   "outputs": [],
   "source": []
  },
  {
   "cell_type": "code",
   "execution_count": 1,
   "metadata": {
    "collapsed": false
   },
   "outputs": [
    {
     "name": "stdout",
     "output_type": "stream",
     "text": [
      "Populating the interactive namespace from numpy and matplotlib\n"
     ]
    }
   ],
   "source": [
    "import pandas as pd\n",
    "import numpy as np\n",
    "import datetime as dt\n",
    "import dateutil as du\n",
    "from sklearn.neighbors import KNeighborsRegressor\n",
    "from sklearn.linear_model import LinearRegression\n",
    "from sklearn.kernel_ridge import KernelRidge\n",
    "import multiprocessing as mp\n",
    "%pylab inline\n",
    "exec(open(\"/Users/raghuramkowdeed/Documents/afp/models/quintile_model.py\").read())\n",
    "exec(open(\"/Users/raghuramkowdeed/Documents/afp/get_signal_names.py\").read())\n",
    "\n"
   ]
  },
  {
   "cell_type": "code",
   "execution_count": null,
   "metadata": {
    "collapsed": false
   },
   "outputs": [],
   "source": []
  },
  {
   "cell_type": "code",
   "execution_count": null,
   "metadata": {
    "collapsed": false
   },
   "outputs": [],
   "source": []
  },
  {
   "cell_type": "code",
   "execution_count": 2,
   "metadata": {
    "collapsed": false
   },
   "outputs": [],
   "source": [
    "#data = pd.read_csv('/Users/raghuramkowdeed/Desktop/rps_data_clean.csv')\n",
    "#data = data.set_index(['date'])\n",
    "#data.index = [ dt.datetime.strptime(str(x),'%Y%m%d') for x in data.index ]"
   ]
  },
  {
   "cell_type": "code",
   "execution_count": null,
   "metadata": {
    "collapsed": false,
    "scrolled": true
   },
   "outputs": [],
   "source": []
  },
  {
   "cell_type": "code",
   "execution_count": null,
   "metadata": {
    "collapsed": false
   },
   "outputs": [],
   "source": []
  },
  {
   "cell_type": "code",
   "execution_count": null,
   "metadata": {
    "collapsed": false
   },
   "outputs": [],
   "source": []
  },
  {
   "cell_type": "code",
   "execution_count": 3,
   "metadata": {
    "collapsed": false
   },
   "outputs": [],
   "source": [
    "#data.to_pickle('/Users/raghuramkowdeed/Desktop/clean_rps_data.pkl')"
   ]
  },
  {
   "cell_type": "code",
   "execution_count": 4,
   "metadata": {
    "collapsed": true
   },
   "outputs": [],
   "source": [
    "#df = pd.read_pickle('/Users/raghuramkowdeed/Desktop/clean_rps_data.pkl')"
   ]
  },
  {
   "cell_type": "code",
   "execution_count": 5,
   "metadata": {
    "collapsed": false
   },
   "outputs": [],
   "source": [
    "def compute_signal_ic(arg):\n",
    "    sig_name = arg[0]\n",
    "    gamma = arg[1]\n",
    "    look_back = arg[2]\n",
    "\n",
    "    data = pd.read_pickle('/Users/raghuramkowdeed/Desktop/clean_rps_data.pkl')\n",
    "    rebalance_dates = np.unique(data.index)\n",
    "    rebalance_dates = np.sort( rebalance_dates )\n",
    "    \n",
    "    l_ic_vec = []\n",
    "    nl_ic_vec = []\n",
    "    comb_ic_vec = []\n",
    "    nl_l_corr_vec = []\n",
    "    model_vec = []\n",
    "    train_x_vec = []\n",
    "    \n",
    "    for ind in range( 200, rebalance_dates.shape[0] ) :\n",
    "        r_d = rebalance_dates[ind]\n",
    "        print(r_d)\n",
    "        train_end_date = rebalance_dates[ind-1] \n",
    "        #train_end_year = train_end_date.year\n",
    "\n",
    "        train_start_date = rebalance_dates[ind-look_back]\n",
    "        #train_start_year = train_start_date.year\n",
    "\n",
    "        #curr_year = r_d.year\n",
    "\n",
    "        train_data = data\n",
    "        train_data = train_data[train_data.index>=train_start_date]\n",
    "        train_data = train_data[train_data.index<=train_end_date]\n",
    "\n",
    "        test_data = data\n",
    "        test_data = test_data[test_data.index==r_d]\n",
    "\n",
    "        train_x = train_data[ [sig_name]]\n",
    "        train_y = train_data['ret']\n",
    "        test_x = test_data[[sig_name]]\n",
    "        test_y = test_data['ret']\n",
    "\n",
    "        \n",
    "        #model = QuintileSort(num_buckets,'median')\n",
    "        #model = KNeighborsRegressor(n_neighbors=int(train_data.shape[0]*1.0/num_buckets)) \n",
    "        \n",
    "        \n",
    "        #print(train_x.shape)\n",
    "        #print(train_x.index[0])\n",
    "        #print(train_x.index[-1])\n",
    "        \n",
    "        #print(test_x.shape)\n",
    "        #print(test_x.index[0])\n",
    "        #print(test_x.index[-1])\n",
    "        #print('-------------')\n",
    "        \n",
    "        model = KernelRidge(kernel='rbf', gamma=0.1)\n",
    "        \n",
    "        \n",
    "        model.fit(train_x,train_y)\n",
    "\n",
    "        #model.ret_profile.plot(kind='bar')\n",
    "\n",
    "        \n",
    "        nl_pred_ret = model.predict(test_x)\n",
    "        nl_pred_ret = pd.Series(nl_pred_ret, index=test_x.index)\n",
    "        nl_pred_ret = nl_pred_ret/nl_pred_ret.std()\n",
    "\n",
    "        nl_corr = nl_pred_ret.corr(test_y)\n",
    "\n",
    "        lm_model = LinearRegression(fit_intercept=False)\n",
    "        lm_model.fit(train_x, train_y)\n",
    "        #beta = (train_x.iloc[:,0]).corr(train_y.iloc[:,0]) * (train_y.iloc[:,0]).std() / (train_x[:,0]).std()\n",
    "        l_pred_ret = lm_model.predict(test_x)\n",
    "        l_pred_ret = pd.Series(l_pred_ret, index=test_x.index)\n",
    "        l_pred_ret = l_pred_ret/l_pred_ret.std()\n",
    "\n",
    "        l_corr = l_pred_ret.corr(test_y)\n",
    "\n",
    "        comb_pred_ret = ( nl_pred_ret + l_pred_ret )/2.0\n",
    "        comb_corr = comb_pred_ret.corr(test_y)\n",
    "\n",
    "\n",
    "        nl_l_corr = nl_pred_ret.corr(l_pred_ret)\n",
    "\n",
    "\n",
    "        l_ic_vec.append(l_corr)\n",
    "        nl_ic_vec.append(nl_corr)\n",
    "\n",
    "        comb_ic_vec.append(comb_corr)\n",
    "\n",
    "        nl_l_corr_vec.append(nl_l_corr)\n",
    "\n",
    "        model_vec.append(model)\n",
    "        train_x_vec.append(train_x)\n",
    "\n",
    "        #print( r_d,l_corr, nl_corr )\n",
    "\n",
    "    df = pd.DataFrame()\n",
    "    df['l_corr'] = l_ic_vec\n",
    "    df['nl_corr'] = nl_ic_vec\n",
    "    df['comb_ic'] = comb_ic_vec\n",
    "    df['nl_l_corr'] = nl_l_corr_vec\n",
    "\n",
    "    corr_s = df.mean(axis=0)\n",
    "    corr_s.name = sig_name\n",
    "    #corr_df = corr_df.append(corr_s)\n",
    "    print(sig_name)\n",
    "    print([corr_s.iloc[0], corr_s.iloc[1]])\n",
    "    return([corr_s.iloc[0], corr_s.iloc[1]])"
   ]
  },
  {
   "cell_type": "code",
   "execution_count": 6,
   "metadata": {
    "collapsed": false
   },
   "outputs": [],
   "source": [
    "#arg = ['cashdebt', 0.1, 12]\n",
    "\n",
    "#res = compute_signal_ic(arg)\n",
    "\n",
    "#res"
   ]
  },
  {
   "cell_type": "code",
   "execution_count": null,
   "metadata": {
    "collapsed": false
   },
   "outputs": [],
   "source": []
  },
  {
   "cell_type": "code",
   "execution_count": 7,
   "metadata": {
    "collapsed": false
   },
   "outputs": [
    {
     "name": "stdout",
     "output_type": "stream",
     "text": [
      "1996-09-30T00:00:00.000000000\n",
      "1996-10-31T00:00:00.000000000\n",
      "1996-11-29T00:00:00.000000000\n",
      "1996-12-31T00:00:00.000000000\n"
     ]
    },
    {
     "ename": "KeyboardInterrupt",
     "evalue": "",
     "output_type": "error",
     "traceback": [
      "\u001b[0;31m---------------------------------------------------------------------------\u001b[0m",
      "\u001b[0;31mKeyboardInterrupt\u001b[0m                         Traceback (most recent call last)",
      "\u001b[0;32m<ipython-input-7-93ce8ee34a26>\u001b[0m in \u001b[0;36m<module>\u001b[0;34m()\u001b[0m\n\u001b[1;32m      6\u001b[0m \u001b[0;31m#pool = mp.Pool(processes=2)\u001b[0m\u001b[0;34m\u001b[0m\u001b[0;34m\u001b[0m\u001b[0m\n\u001b[1;32m      7\u001b[0m \u001b[0;31m#results = pool.map(compute_signal_ic, arg_vec)\u001b[0m\u001b[0;34m\u001b[0m\u001b[0;34m\u001b[0m\u001b[0m\n\u001b[0;32m----> 8\u001b[0;31m \u001b[0mresults\u001b[0m \u001b[0;34m=\u001b[0m \u001b[0;34m[\u001b[0m \u001b[0mcompute_signal_ic\u001b[0m\u001b[0;34m(\u001b[0m\u001b[0mval\u001b[0m\u001b[0;34m)\u001b[0m \u001b[0;32mfor\u001b[0m \u001b[0mval\u001b[0m \u001b[0;32min\u001b[0m \u001b[0marg_vec\u001b[0m\u001b[0;34m]\u001b[0m\u001b[0;34m\u001b[0m\u001b[0m\n\u001b[0m\u001b[1;32m      9\u001b[0m \u001b[0mprint\u001b[0m\u001b[0;34m(\u001b[0m\u001b[0mresults\u001b[0m\u001b[0;34m)\u001b[0m\u001b[0;34m\u001b[0m\u001b[0m\n",
      "\u001b[0;32m<ipython-input-7-93ce8ee34a26>\u001b[0m in \u001b[0;36m<listcomp>\u001b[0;34m(.0)\u001b[0m\n\u001b[1;32m      6\u001b[0m \u001b[0;31m#pool = mp.Pool(processes=2)\u001b[0m\u001b[0;34m\u001b[0m\u001b[0;34m\u001b[0m\u001b[0m\n\u001b[1;32m      7\u001b[0m \u001b[0;31m#results = pool.map(compute_signal_ic, arg_vec)\u001b[0m\u001b[0;34m\u001b[0m\u001b[0;34m\u001b[0m\u001b[0m\n\u001b[0;32m----> 8\u001b[0;31m \u001b[0mresults\u001b[0m \u001b[0;34m=\u001b[0m \u001b[0;34m[\u001b[0m \u001b[0mcompute_signal_ic\u001b[0m\u001b[0;34m(\u001b[0m\u001b[0mval\u001b[0m\u001b[0;34m)\u001b[0m \u001b[0;32mfor\u001b[0m \u001b[0mval\u001b[0m \u001b[0;32min\u001b[0m \u001b[0marg_vec\u001b[0m\u001b[0;34m]\u001b[0m\u001b[0;34m\u001b[0m\u001b[0m\n\u001b[0m\u001b[1;32m      9\u001b[0m \u001b[0mprint\u001b[0m\u001b[0;34m(\u001b[0m\u001b[0mresults\u001b[0m\u001b[0;34m)\u001b[0m\u001b[0;34m\u001b[0m\u001b[0m\n",
      "\u001b[0;32m<ipython-input-5-78e32cf4df82>\u001b[0m in \u001b[0;36mcompute_signal_ic\u001b[0;34m(arg)\u001b[0m\n\u001b[1;32m     55\u001b[0m \u001b[0;34m\u001b[0m\u001b[0m\n\u001b[1;32m     56\u001b[0m \u001b[0;34m\u001b[0m\u001b[0m\n\u001b[0;32m---> 57\u001b[0;31m         \u001b[0mmodel\u001b[0m\u001b[0;34m.\u001b[0m\u001b[0mfit\u001b[0m\u001b[0;34m(\u001b[0m\u001b[0mtrain_x\u001b[0m\u001b[0;34m,\u001b[0m\u001b[0mtrain_y\u001b[0m\u001b[0;34m)\u001b[0m\u001b[0;34m\u001b[0m\u001b[0m\n\u001b[0m\u001b[1;32m     58\u001b[0m \u001b[0;34m\u001b[0m\u001b[0m\n\u001b[1;32m     59\u001b[0m         \u001b[0;31m#model.ret_profile.plot(kind='bar')\u001b[0m\u001b[0;34m\u001b[0m\u001b[0;34m\u001b[0m\u001b[0m\n",
      "\u001b[0;32m/Users/raghuramkowdeed/Applications/anaconda/lib/python3.5/site-packages/sklearn/kernel_ridge.py\u001b[0m in \u001b[0;36mfit\u001b[0;34m(self, X, y, sample_weight)\u001b[0m\n\u001b[1;32m    158\u001b[0m         self.dual_coef_ = _solve_cholesky_kernel(K, y, alpha,\n\u001b[1;32m    159\u001b[0m                                                  \u001b[0msample_weight\u001b[0m\u001b[0;34m,\u001b[0m\u001b[0;34m\u001b[0m\u001b[0m\n\u001b[0;32m--> 160\u001b[0;31m                                                  copy)\n\u001b[0m\u001b[1;32m    161\u001b[0m         \u001b[0;32mif\u001b[0m \u001b[0mravel\u001b[0m\u001b[0;34m:\u001b[0m\u001b[0;34m\u001b[0m\u001b[0m\n\u001b[1;32m    162\u001b[0m             \u001b[0mself\u001b[0m\u001b[0;34m.\u001b[0m\u001b[0mdual_coef_\u001b[0m \u001b[0;34m=\u001b[0m \u001b[0mself\u001b[0m\u001b[0;34m.\u001b[0m\u001b[0mdual_coef_\u001b[0m\u001b[0;34m.\u001b[0m\u001b[0mravel\u001b[0m\u001b[0;34m(\u001b[0m\u001b[0;34m)\u001b[0m\u001b[0;34m\u001b[0m\u001b[0m\n",
      "\u001b[0;32m/Users/raghuramkowdeed/Applications/anaconda/lib/python3.5/site-packages/sklearn/linear_model/ridge.py\u001b[0m in \u001b[0;36m_solve_cholesky_kernel\u001b[0;34m(K, y, alpha, sample_weight, copy)\u001b[0m\n\u001b[1;32m    150\u001b[0m             \u001b[0;31m#       is raised\u001b[0m\u001b[0;34m\u001b[0m\u001b[0;34m\u001b[0m\u001b[0m\n\u001b[1;32m    151\u001b[0m             dual_coef = linalg.solve(K, y, sym_pos=True,\n\u001b[0;32m--> 152\u001b[0;31m                                      overwrite_a=False)\n\u001b[0m\u001b[1;32m    153\u001b[0m         \u001b[0;32mexcept\u001b[0m \u001b[0mnp\u001b[0m\u001b[0;34m.\u001b[0m\u001b[0mlinalg\u001b[0m\u001b[0;34m.\u001b[0m\u001b[0mLinAlgError\u001b[0m\u001b[0;34m:\u001b[0m\u001b[0;34m\u001b[0m\u001b[0m\n\u001b[1;32m    154\u001b[0m             warnings.warn(\"Singular matrix in solving dual problem. Using \"\n",
      "\u001b[0;32m/Users/raghuramkowdeed/Applications/anaconda/lib/python3.5/site-packages/scipy/linalg/basic.py\u001b[0m in \u001b[0;36msolve\u001b[0;34m(a, b, sym_pos, lower, overwrite_a, overwrite_b, debug, check_finite)\u001b[0m\n\u001b[1;32m     92\u001b[0m         c, x, info = posv(a1, b1, lower=lower,\n\u001b[1;32m     93\u001b[0m                           \u001b[0moverwrite_a\u001b[0m\u001b[0;34m=\u001b[0m\u001b[0moverwrite_a\u001b[0m\u001b[0;34m,\u001b[0m\u001b[0;34m\u001b[0m\u001b[0m\n\u001b[0;32m---> 94\u001b[0;31m                           overwrite_b=overwrite_b)\n\u001b[0m\u001b[1;32m     95\u001b[0m     \u001b[0;32melse\u001b[0m\u001b[0;34m:\u001b[0m\u001b[0;34m\u001b[0m\u001b[0m\n\u001b[1;32m     96\u001b[0m         \u001b[0mgesv\u001b[0m\u001b[0;34m,\u001b[0m \u001b[0;34m=\u001b[0m \u001b[0mget_lapack_funcs\u001b[0m\u001b[0;34m(\u001b[0m\u001b[0;34m(\u001b[0m\u001b[0;34m'gesv'\u001b[0m\u001b[0;34m,\u001b[0m\u001b[0;34m)\u001b[0m\u001b[0;34m,\u001b[0m \u001b[0;34m(\u001b[0m\u001b[0ma1\u001b[0m\u001b[0;34m,\u001b[0m \u001b[0mb1\u001b[0m\u001b[0;34m)\u001b[0m\u001b[0;34m)\u001b[0m\u001b[0;34m\u001b[0m\u001b[0m\n",
      "\u001b[0;31mKeyboardInterrupt\u001b[0m: "
     ]
    }
   ],
   "source": [
    "sig_names = get_signal_names()\n",
    "sig_names = ['roic']\n",
    "gamma = 0.1\n",
    "look_back = 1\n",
    "arg_vec = [ [val, gamma, look_back] for val in sig_names ]\n",
    "#pool = mp.Pool(processes=2)\n",
    "#results = pool.map(compute_signal_ic, arg_vec)\n",
    "results = [ compute_signal_ic(val) for val in arg_vec]\n",
    "print(results)\n"
   ]
  },
  {
   "cell_type": "code",
   "execution_count": 22,
   "metadata": {
    "collapsed": false
   },
   "outputs": [
    {
     "data": {
      "text/plain": [
       "4"
      ]
     },
     "execution_count": 22,
     "metadata": {},
     "output_type": "execute_result"
    }
   ],
   "source": [
    "mp.cpu_count()\n"
   ]
  },
  {
   "cell_type": "code",
   "execution_count": 6,
   "metadata": {
    "collapsed": true
   },
   "outputs": [],
   "source": [
    "start_year = 2000\n",
    "start_date = dt.datetime.strptime(str(start_year)+'0101','%Y%m%d')\n",
    "end_year = 2015\n",
    "end_date = dt.datetime.strptime(str(end_year)+'0101','%Y%m%d')"
   ]
  },
  {
   "cell_type": "code",
   "execution_count": null,
   "metadata": {
    "collapsed": false
   },
   "outputs": [],
   "source": [
    "\n"
   ]
  },
  {
   "cell_type": "code",
   "execution_count": null,
   "metadata": {
    "collapsed": true
   },
   "outputs": [],
   "source": []
  },
  {
   "cell_type": "code",
   "execution_count": 7,
   "metadata": {
    "collapsed": true
   },
   "outputs": [],
   "source": [
    "look_back = 1*1\n",
    "sig_names = get_signal_names()\n",
    "sig_names = sig_names[0::5]\n",
    "#sig_names = ['cashdebt']\n",
    "num_buckets = 5\n",
    "gamma = 1.0\n",
    "rebalance_dates = np.unique(data.index)"
   ]
  },
  {
   "cell_type": "code",
   "execution_count": 8,
   "metadata": {
    "collapsed": false
   },
   "outputs": [
    {
     "name": "stdout",
     "output_type": "stream",
     "text": [
      "absacc\n",
      "l_corr      -0.001650\n",
      "nl_corr      0.007957\n",
      "comb_ic      0.000713\n",
      "nl_l_corr    0.212880\n",
      "Name: absacc, dtype: float64\n",
      "beta\n",
      "l_corr      -0.000832\n",
      "nl_corr      0.002080\n",
      "comb_ic      0.001803\n",
      "nl_l_corr    0.347879\n",
      "Name: beta, dtype: float64\n",
      "cashdebt\n",
      "l_corr      -0.008054\n",
      "nl_corr      0.023534\n",
      "comb_ic      0.012288\n",
      "nl_l_corr   -0.214198\n",
      "Name: cashdebt, dtype: float64\n",
      "chcsho\n",
      "l_corr       0.000928\n",
      "nl_corr      0.007460\n",
      "comb_ic      0.005753\n",
      "nl_l_corr    0.294077\n",
      "Name: chcsho, dtype: float64\n"
     ]
    },
    {
     "ename": "KeyboardInterrupt",
     "evalue": "",
     "output_type": "error",
     "traceback": [
      "\u001b[0;31m---------------------------------------------------------------------------\u001b[0m",
      "\u001b[0;31mKeyboardInterrupt\u001b[0m                         Traceback (most recent call last)",
      "\u001b[0;32m<ipython-input-8-c614a90ffe47>\u001b[0m in \u001b[0;36m<module>\u001b[0;34m()\u001b[0m\n\u001b[1;32m     34\u001b[0m \u001b[0;34m\u001b[0m\u001b[0m\n\u001b[1;32m     35\u001b[0m \u001b[0;34m\u001b[0m\u001b[0m\n\u001b[0;32m---> 36\u001b[0;31m         \u001b[0mmodel\u001b[0m\u001b[0;34m.\u001b[0m\u001b[0mfit\u001b[0m\u001b[0;34m(\u001b[0m\u001b[0mtrain_x\u001b[0m\u001b[0;34m,\u001b[0m\u001b[0mtrain_y\u001b[0m\u001b[0;34m)\u001b[0m\u001b[0;34m\u001b[0m\u001b[0m\n\u001b[0m\u001b[1;32m     37\u001b[0m \u001b[0;34m\u001b[0m\u001b[0m\n\u001b[1;32m     38\u001b[0m         \u001b[0;31m#model.ret_profile.plot(kind='bar')\u001b[0m\u001b[0;34m\u001b[0m\u001b[0;34m\u001b[0m\u001b[0m\n",
      "\u001b[0;32m/Users/raghuramkowdeed/Applications/anaconda/lib/python3.5/site-packages/sklearn/kernel_ridge.py\u001b[0m in \u001b[0;36mfit\u001b[0;34m(self, X, y, sample_weight)\u001b[0m\n\u001b[1;32m    147\u001b[0m                          y_numeric=True)\n\u001b[1;32m    148\u001b[0m \u001b[0;34m\u001b[0m\u001b[0m\n\u001b[0;32m--> 149\u001b[0;31m         \u001b[0mK\u001b[0m \u001b[0;34m=\u001b[0m \u001b[0mself\u001b[0m\u001b[0;34m.\u001b[0m\u001b[0m_get_kernel\u001b[0m\u001b[0;34m(\u001b[0m\u001b[0mX\u001b[0m\u001b[0;34m)\u001b[0m\u001b[0;34m\u001b[0m\u001b[0m\n\u001b[0m\u001b[1;32m    150\u001b[0m         \u001b[0malpha\u001b[0m \u001b[0;34m=\u001b[0m \u001b[0mnp\u001b[0m\u001b[0;34m.\u001b[0m\u001b[0matleast_1d\u001b[0m\u001b[0;34m(\u001b[0m\u001b[0mself\u001b[0m\u001b[0;34m.\u001b[0m\u001b[0malpha\u001b[0m\u001b[0;34m)\u001b[0m\u001b[0;34m\u001b[0m\u001b[0m\n\u001b[1;32m    151\u001b[0m \u001b[0;34m\u001b[0m\u001b[0m\n",
      "\u001b[0;32m/Users/raghuramkowdeed/Applications/anaconda/lib/python3.5/site-packages/sklearn/kernel_ridge.py\u001b[0m in \u001b[0;36m_get_kernel\u001b[0;34m(self, X, Y)\u001b[0m\n\u001b[1;32m    119\u001b[0m                       \"coef0\": self.coef0}\n\u001b[1;32m    120\u001b[0m         return pairwise_kernels(X, Y, metric=self.kernel,\n\u001b[0;32m--> 121\u001b[0;31m                                 filter_params=True, **params)\n\u001b[0m\u001b[1;32m    122\u001b[0m \u001b[0;34m\u001b[0m\u001b[0m\n\u001b[1;32m    123\u001b[0m     \u001b[0;34m@\u001b[0m\u001b[0mproperty\u001b[0m\u001b[0;34m\u001b[0m\u001b[0m\n",
      "\u001b[0;32m/Users/raghuramkowdeed/Applications/anaconda/lib/python3.5/site-packages/sklearn/metrics/pairwise.py\u001b[0m in \u001b[0;36mpairwise_kernels\u001b[0;34m(X, Y, metric, filter_params, n_jobs, **kwds)\u001b[0m\n\u001b[1;32m   1397\u001b[0m         \u001b[0;32mraise\u001b[0m \u001b[0mValueError\u001b[0m\u001b[0;34m(\u001b[0m\u001b[0;34m\"Unknown kernel %r\"\u001b[0m \u001b[0;34m%\u001b[0m \u001b[0mmetric\u001b[0m\u001b[0;34m)\u001b[0m\u001b[0;34m\u001b[0m\u001b[0m\n\u001b[1;32m   1398\u001b[0m \u001b[0;34m\u001b[0m\u001b[0m\n\u001b[0;32m-> 1399\u001b[0;31m     \u001b[0;32mreturn\u001b[0m \u001b[0m_parallel_pairwise\u001b[0m\u001b[0;34m(\u001b[0m\u001b[0mX\u001b[0m\u001b[0;34m,\u001b[0m \u001b[0mY\u001b[0m\u001b[0;34m,\u001b[0m \u001b[0mfunc\u001b[0m\u001b[0;34m,\u001b[0m \u001b[0mn_jobs\u001b[0m\u001b[0;34m,\u001b[0m \u001b[0;34m**\u001b[0m\u001b[0mkwds\u001b[0m\u001b[0;34m)\u001b[0m\u001b[0;34m\u001b[0m\u001b[0m\n\u001b[0m",
      "\u001b[0;32m/Users/raghuramkowdeed/Applications/anaconda/lib/python3.5/site-packages/sklearn/metrics/pairwise.py\u001b[0m in \u001b[0;36m_parallel_pairwise\u001b[0;34m(X, Y, func, n_jobs, **kwds)\u001b[0m\n\u001b[1;32m   1081\u001b[0m     \u001b[0;32mif\u001b[0m \u001b[0mn_jobs\u001b[0m \u001b[0;34m==\u001b[0m \u001b[0;36m1\u001b[0m\u001b[0;34m:\u001b[0m\u001b[0;34m\u001b[0m\u001b[0m\n\u001b[1;32m   1082\u001b[0m         \u001b[0;31m# Special case to avoid picklability checks in delayed\u001b[0m\u001b[0;34m\u001b[0m\u001b[0;34m\u001b[0m\u001b[0m\n\u001b[0;32m-> 1083\u001b[0;31m         \u001b[0;32mreturn\u001b[0m \u001b[0mfunc\u001b[0m\u001b[0;34m(\u001b[0m\u001b[0mX\u001b[0m\u001b[0;34m,\u001b[0m \u001b[0mY\u001b[0m\u001b[0;34m,\u001b[0m \u001b[0;34m**\u001b[0m\u001b[0mkwds\u001b[0m\u001b[0;34m)\u001b[0m\u001b[0;34m\u001b[0m\u001b[0m\n\u001b[0m\u001b[1;32m   1084\u001b[0m \u001b[0;34m\u001b[0m\u001b[0m\n\u001b[1;32m   1085\u001b[0m     \u001b[0;31m# TODO: in some cases, backend='threading' may be appropriate\u001b[0m\u001b[0;34m\u001b[0m\u001b[0;34m\u001b[0m\u001b[0m\n",
      "\u001b[0;32m/Users/raghuramkowdeed/Applications/anaconda/lib/python3.5/site-packages/sklearn/metrics/pairwise.py\u001b[0m in \u001b[0;36mrbf_kernel\u001b[0;34m(X, Y, gamma)\u001b[0m\n\u001b[1;32m    833\u001b[0m         \u001b[0mgamma\u001b[0m \u001b[0;34m=\u001b[0m \u001b[0;36m1.0\u001b[0m \u001b[0;34m/\u001b[0m \u001b[0mX\u001b[0m\u001b[0;34m.\u001b[0m\u001b[0mshape\u001b[0m\u001b[0;34m[\u001b[0m\u001b[0;36m1\u001b[0m\u001b[0;34m]\u001b[0m\u001b[0;34m\u001b[0m\u001b[0m\n\u001b[1;32m    834\u001b[0m \u001b[0;34m\u001b[0m\u001b[0m\n\u001b[0;32m--> 835\u001b[0;31m     \u001b[0mK\u001b[0m \u001b[0;34m=\u001b[0m \u001b[0meuclidean_distances\u001b[0m\u001b[0;34m(\u001b[0m\u001b[0mX\u001b[0m\u001b[0;34m,\u001b[0m \u001b[0mY\u001b[0m\u001b[0;34m,\u001b[0m \u001b[0msquared\u001b[0m\u001b[0;34m=\u001b[0m\u001b[0;32mTrue\u001b[0m\u001b[0;34m)\u001b[0m\u001b[0;34m\u001b[0m\u001b[0m\n\u001b[0m\u001b[1;32m    836\u001b[0m     \u001b[0mK\u001b[0m \u001b[0;34m*=\u001b[0m \u001b[0;34m-\u001b[0m\u001b[0mgamma\u001b[0m\u001b[0;34m\u001b[0m\u001b[0m\n\u001b[1;32m    837\u001b[0m     \u001b[0mnp\u001b[0m\u001b[0;34m.\u001b[0m\u001b[0mexp\u001b[0m\u001b[0;34m(\u001b[0m\u001b[0mK\u001b[0m\u001b[0;34m,\u001b[0m \u001b[0mK\u001b[0m\u001b[0;34m)\u001b[0m    \u001b[0;31m# exponentiate K in-place\u001b[0m\u001b[0;34m\u001b[0m\u001b[0m\n",
      "\u001b[0;32m/Users/raghuramkowdeed/Applications/anaconda/lib/python3.5/site-packages/sklearn/metrics/pairwise.py\u001b[0m in \u001b[0;36meuclidean_distances\u001b[0;34m(X, Y, Y_norm_squared, squared, X_norm_squared)\u001b[0m\n\u001b[1;32m    246\u001b[0m     \u001b[0mdistances\u001b[0m \u001b[0;34m*=\u001b[0m \u001b[0;34m-\u001b[0m\u001b[0;36m2\u001b[0m\u001b[0;34m\u001b[0m\u001b[0m\n\u001b[1;32m    247\u001b[0m     \u001b[0mdistances\u001b[0m \u001b[0;34m+=\u001b[0m \u001b[0mXX\u001b[0m\u001b[0;34m\u001b[0m\u001b[0m\n\u001b[0;32m--> 248\u001b[0;31m     \u001b[0mdistances\u001b[0m \u001b[0;34m+=\u001b[0m \u001b[0mYY\u001b[0m\u001b[0;34m\u001b[0m\u001b[0m\n\u001b[0m\u001b[1;32m    249\u001b[0m     \u001b[0mnp\u001b[0m\u001b[0;34m.\u001b[0m\u001b[0mmaximum\u001b[0m\u001b[0;34m(\u001b[0m\u001b[0mdistances\u001b[0m\u001b[0;34m,\u001b[0m \u001b[0;36m0\u001b[0m\u001b[0;34m,\u001b[0m \u001b[0mout\u001b[0m\u001b[0;34m=\u001b[0m\u001b[0mdistances\u001b[0m\u001b[0;34m)\u001b[0m\u001b[0;34m\u001b[0m\u001b[0m\n\u001b[1;32m    250\u001b[0m \u001b[0;34m\u001b[0m\u001b[0m\n",
      "\u001b[0;31mKeyboardInterrupt\u001b[0m: "
     ]
    }
   ],
   "source": [
    "corr_df = pd.DataFrame()  \n",
    "for sig_name in sig_names:\n",
    "    l_ic_vec = []\n",
    "    nl_ic_vec = []\n",
    "    comb_ic_vec = []\n",
    "    nl_l_corr_vec = []\n",
    "    model_vec = []\n",
    "    train_x_vec = []\n",
    "    \n",
    "    for ind in range( 200, rebalance_dates.shape[0] ) :\n",
    "        r_d = rebalance_dates[ind]\n",
    "        #print(r_d)\n",
    "        train_end_date = rebalance_dates[ind-1] \n",
    "        #train_end_year = train_end_date.year\n",
    "\n",
    "        train_start_date = rebalance_dates[ind-look_back]\n",
    "        #train_start_year = train_start_date.year\n",
    "\n",
    "        #curr_year = r_d.year\n",
    "\n",
    "        train_data = data\n",
    "        train_data = train_data[train_data.index>=train_start_date]\n",
    "        train_data = train_data[train_data.index<=train_end_date]\n",
    "\n",
    "        test_data = data\n",
    "        test_data = test_data[test_data.index==r_d]\n",
    "\n",
    "\n",
    "        #model = QuintileSort(num_buckets,'median')\n",
    "        #model = KNeighborsRegressor(n_neighbors=int(train_data.shape[0]*1.0/num_buckets)) \n",
    "        model = KernelRidge(kernel='rbf', gamma=0.1)\n",
    "        train_x = train_data[ [sig_name]]\n",
    "        train_y = train_data['ret']\n",
    "\n",
    "        \n",
    "        model.fit(train_x,train_y)\n",
    "\n",
    "        #model.ret_profile.plot(kind='bar')\n",
    "\n",
    "        test_x = test_data[[sig_name]]\n",
    "        test_y = test_data['ret']\n",
    "\n",
    "        nl_pred_ret = model.predict(test_x)\n",
    "        nl_pred_ret = pd.Series(nl_pred_ret, index=test_x.index)\n",
    "        nl_pred_ret = nl_pred_ret/nl_pred_ret.std()\n",
    "\n",
    "        nl_corr = nl_pred_ret.corr(test_y)\n",
    "\n",
    "        lm_model = LinearRegression(fit_intercept=False)\n",
    "        lm_model.fit(train_x, train_y)\n",
    "        #beta = (train_x.iloc[:,0]).corr(train_y.iloc[:,0]) * (train_y.iloc[:,0]).std() / (train_x[:,0]).std()\n",
    "        l_pred_ret = lm_model.predict(test_x)\n",
    "        l_pred_ret = pd.Series(l_pred_ret, index=test_x.index)\n",
    "        l_pred_ret = l_pred_ret/l_pred_ret.std()\n",
    "\n",
    "        l_corr = l_pred_ret.corr(test_y)\n",
    "\n",
    "        comb_pred_ret = ( nl_pred_ret + l_pred_ret )/2.0\n",
    "        comb_corr = comb_pred_ret.corr(test_y)\n",
    "\n",
    "\n",
    "        nl_l_corr = nl_pred_ret.corr(l_pred_ret)\n",
    "\n",
    "\n",
    "        l_ic_vec.append(l_corr)\n",
    "        nl_ic_vec.append(nl_corr)\n",
    "\n",
    "        comb_ic_vec.append(comb_corr)\n",
    "\n",
    "        nl_l_corr_vec.append(nl_l_corr)\n",
    "\n",
    "        model_vec.append(model)\n",
    "        train_x_vec.append(train_x)\n",
    "\n",
    "        #print( r_d,l_corr, nl_corr )\n",
    "\n",
    "    df = pd.DataFrame()\n",
    "    df['l_corr'] = l_ic_vec\n",
    "    df['nl_corr'] = nl_ic_vec\n",
    "    df['comb_ic'] = comb_ic_vec\n",
    "    df['nl_l_corr'] = nl_l_corr_vec\n",
    "\n",
    "    #df.index = rebalance_dates\n",
    "    corr_s = df.mean(axis=0)\n",
    "    corr_s.name = sig_name\n",
    "    corr_df = corr_df.append(corr_s)\n",
    "    print(sig_name)\n",
    "    print(corr_s)"
   ]
  },
  {
   "cell_type": "code",
   "execution_count": null,
   "metadata": {
    "collapsed": false
   },
   "outputs": [],
   "source": [
    "corr_df"
   ]
  },
  {
   "cell_type": "code",
   "execution_count": null,
   "metadata": {
    "collapsed": false
   },
   "outputs": [],
   "source": [
    "#ind = 189\n",
    "#model = model_vec[ind]\n",
    "#X = np.arange(0.0,1.01,0.01)\n",
    "#X = X.reshape((X.shape[0],1))\n",
    "#pred_y = model.predict(X)\n",
    "#pylab.plot(X[:,0], pred_y)"
   ]
  },
  {
   "cell_type": "code",
   "execution_count": null,
   "metadata": {
    "collapsed": false
   },
   "outputs": [],
   "source": []
  },
  {
   "cell_type": "code",
   "execution_count": null,
   "metadata": {
    "collapsed": false
   },
   "outputs": [],
   "source": [
    "from pylab import rcParams\n",
    "rcParams['figure.figsize'] = 20, 10\n",
    "rcParams['font.size']=  15\n",
    "corr_df[['l_corr', 'nl_corr']].iloc[::10].plot(kind='bar')"
   ]
  },
  {
   "cell_type": "code",
   "execution_count": null,
   "metadata": {
    "collapsed": true
   },
   "outputs": [],
   "source": []
  }
 ],
 "metadata": {
  "anaconda-cloud": {},
  "kernelspec": {
   "display_name": "Python [Root]",
   "language": "python",
   "name": "Python [Root]"
  },
  "language_info": {
   "codemirror_mode": {
    "name": "ipython",
    "version": 3
   },
   "file_extension": ".py",
   "mimetype": "text/x-python",
   "name": "python",
   "nbconvert_exporter": "python",
   "pygments_lexer": "ipython3",
   "version": "3.5.2"
  }
 },
 "nbformat": 4,
 "nbformat_minor": 2
}
