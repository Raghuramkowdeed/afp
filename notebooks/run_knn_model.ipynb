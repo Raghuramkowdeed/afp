{
 "cells": [
  {
   "cell_type": "code",
   "execution_count": 1,
   "metadata": {
    "collapsed": false
   },
   "outputs": [],
   "source": [
    "import numpy as np\n",
    "import pandas as pd\n",
    "import os as os\n",
    "import time\n",
    "\n"
   ]
  },
  {
   "cell_type": "code",
   "execution_count": 2,
   "metadata": {
    "collapsed": true
   },
   "outputs": [],
   "source": [
    "os.chdir('/Users/raghuramkowdeed/Documents/afp/')"
   ]
  },
  {
   "cell_type": "code",
   "execution_count": 3,
   "metadata": {
    "collapsed": false
   },
   "outputs": [
    {
     "name": "stdout",
     "output_type": "stream",
     "text": [
      "Populating the interactive namespace from numpy and matplotlib\n"
     ]
    }
   ],
   "source": [
    "%pylab inline\n",
    "exec(open(\"./run_model.py\").read())\n",
    "exec(open(\"./get_signal_names.py\").read())\n",
    "exec(open(\"./portfolio_optimizer.py\").read())\n",
    "\n",
    "import datetime\n",
    "from pylab import rcParams\n"
   ]
  },
  {
   "cell_type": "code",
   "execution_count": 4,
   "metadata": {
    "collapsed": true
   },
   "outputs": [],
   "source": [
    "#sig_dir = '/Users/raghuramkowdeed/Desktop/afp_data/1000/ranked_rps_data/'\n",
    "#fac_data_dir='/Users/raghuramkowdeed/Desktop/afp_data/1000/factor_exposure_data/'\n",
    "#fac_ret_file = '/Users/raghuramkowdeed/Desktop/afp_data/1000/fac_ret_file.csv'\n",
    "\n",
    "use_rank = True\n",
    "\n",
    "sig_dir = '/Users/raghuramkowdeed/Desktop/afp_data/rank/500/rps_data/'\n",
    "fac_data_dir='/Users/raghuramkowdeed/Desktop/afp_data/rank/500/factor_exposure_data/'\n",
    "fac_ret_file = '/Users/raghuramkowdeed/Desktop/afp_data/rank/500/fac_ret_file.csv'\n",
    "\n",
    "if not use_rank:\n",
    "    sig_dir = '/Users/raghuramkowdeed/Desktop/afp_data/norm/500/rps_data/'\n",
    "    fac_data_dir='/Users/raghuramkowdeed/Desktop/afp_data/norm/500/factor_exposure_data/'\n",
    "    fac_ret_file = '/Users/raghuramkowdeed/Desktop/afp_data/norm/500/fac_ret_file.csv'\n",
    "    "
   ]
  },
  {
   "cell_type": "code",
   "execution_count": 5,
   "metadata": {
    "collapsed": false
   },
   "outputs": [],
   "source": [
    "sig_df = pd.DataFrame()\n",
    "sig_files = os.listdir(sig_dir)\n",
    "sig_files = np.sort(sig_files)\n",
    "\n",
    "for sig_file in sig_files :\n",
    "    if '.csv' not in sig_file :\n",
    "        continue\n",
    "    #print(sig_file)\n",
    "    this_file = sig_dir + sig_file\n",
    "    this_df = pd.read_csv(this_file, index_col = 'date')\n",
    "    this_df.index = [ datetime.datetime.strptime(val, '%Y-%m-%d') for val in this_df.index]\n",
    "    sig_df = sig_df.append(this_df)\n",
    "data = sig_df.copy()"
   ]
  },
  {
   "cell_type": "code",
   "execution_count": 6,
   "metadata": {
    "collapsed": true
   },
   "outputs": [],
   "source": [
    "#model_name = 'linear_regression'\n",
    "#train_model_arg = { 'fit_intercept':True }\n",
    "\n",
    "model_name = 'knn'\n",
    "train_model_arg = None\n",
    "\n",
    "look_back = 3"
   ]
  },
  {
   "cell_type": "code",
   "execution_count": 7,
   "metadata": {
    "collapsed": true
   },
   "outputs": [],
   "source": [
    "begin_date = datetime.datetime.strptime('19900101', '%Y%m%d')\n",
    "end_date = datetime.datetime.strptime('20170101', '%Y%m%d')\n",
    "\n",
    "sig_df = sig_df[(sig_df.index>=begin_date) & (sig_df.index<end_date)]\n",
    "sig_df = sig_df.fillna(sig_df.mean())"
   ]
  },
  {
   "cell_type": "code",
   "execution_count": null,
   "metadata": {
    "collapsed": false
   },
   "outputs": [],
   "source": []
  },
  {
   "cell_type": "code",
   "execution_count": 8,
   "metadata": {
    "collapsed": false
   },
   "outputs": [
    {
     "data": {
      "text/plain": [
       "True"
      ]
     },
     "execution_count": 8,
     "metadata": {},
     "output_type": "execute_result"
    }
   ],
   "source": [
    "'res_ret' in sig_df.columns"
   ]
  },
  {
   "cell_type": "code",
   "execution_count": 9,
   "metadata": {
    "collapsed": false
   },
   "outputs": [],
   "source": [
    "#factor_names =  ['beta','mve', 'bm', 'roic', 'agr', 'mom12m', 'idiovol']\n",
    "factor_names =  ['beta']\n",
    "sig_names = get_signal_names()\n",
    "ret_sr = sig_df['ret']\n",
    "sig_df = sig_df[sig_names]\n",
    "sig_df = sig_df.drop(factor_names, axis=1)\n",
    "sig_df = sig_df.drop(['idiovol'], axis=1)"
   ]
  },
  {
   "cell_type": "code",
   "execution_count": 10,
   "metadata": {
    "collapsed": false
   },
   "outputs": [
    {
     "name": "stdout",
     "output_type": "stream",
     "text": [
      "--------\n"
     ]
    }
   ],
   "source": [
    "pm = PortfolioOptimizer(fac_data_dir=fac_data_dir,\n",
    "                        fac_ret_file = fac_ret_file,\n",
    "                        fac_cov_hl = 12.0,\n",
    "                        fac_names = None\n",
    "                       )"
   ]
  },
  {
   "cell_type": "code",
   "execution_count": null,
   "metadata": {
    "collapsed": false
   },
   "outputs": [
    {
     "name": "stdout",
     "output_type": "stream",
     "text": [
      "absacc\n",
      "time = 78.97116804122925\n",
      "org      -0.042533\n",
      "lm        0.256706\n",
      "knn       0.263234\n",
      "kernel    0.157682\n",
      "Name: absacc, dtype: float64\n",
      "acc\n",
      "time = 78.41502618789673\n",
      "org      -0.034757\n",
      "lm        0.261681\n",
      "knn       0.157263\n",
      "kernel    0.157639\n",
      "Name: acc, dtype: float64\n",
      "aeavol\n",
      "time = 75.68078112602234\n",
      "org      -0.256738\n",
      "lm       -0.299273\n",
      "knn       0.028734\n",
      "kernel   -0.270042\n",
      "Name: aeavol, dtype: float64\n",
      "age\n",
      "time = 72.11311602592468\n",
      "org       0.075057\n",
      "lm        0.189997\n",
      "knn      -0.012168\n",
      "kernel    0.147236\n",
      "Name: age, dtype: float64\n",
      "agr\n",
      "time = 75.31569385528564\n",
      "org      -0.494739\n",
      "lm        0.263791\n",
      "knn       0.247371\n",
      "kernel    0.174746\n",
      "Name: agr, dtype: float64\n",
      "baspread\n",
      "time = 86.62826108932495\n",
      "org      -0.457614\n",
      "lm       -0.084499\n",
      "knn       0.063118\n",
      "kernel    0.102991\n",
      "Name: baspread, dtype: float64\n",
      "betasq\n",
      "time = 76.50180506706238\n",
      "org       0.007237\n",
      "lm        0.222957\n",
      "knn       0.186522\n",
      "kernel    0.259406\n",
      "Name: betasq, dtype: float64\n",
      "bm\n",
      "time = 79.98900294303894\n",
      "org       0.189016\n",
      "lm        0.351025\n",
      "knn       0.557334\n",
      "kernel    0.652638\n",
      "Name: bm, dtype: float64\n",
      "bm_ia\n",
      "time = 86.313227891922\n",
      "org       0.136814\n",
      "lm        0.328028\n",
      "knn       0.271939\n",
      "kernel    0.199361\n",
      "Name: bm_ia, dtype: float64\n",
      "cash\n",
      "time = 79.19975900650024\n",
      "org       0.209714\n",
      "lm        0.143808\n",
      "knn       0.086641\n",
      "kernel    0.166137\n",
      "Name: cash, dtype: float64\n",
      "cashdebt\n",
      "time = 83.72306609153748\n",
      "org       0.029227\n",
      "lm        0.295201\n",
      "knn       0.433166\n",
      "kernel    0.424616\n",
      "Name: cashdebt, dtype: float64\n",
      "cashpr\n",
      "time = 79.05975294113159\n",
      "org      -0.258817\n",
      "lm        0.202424\n",
      "knn       0.359807\n",
      "kernel    0.429976\n",
      "Name: cashpr, dtype: float64\n",
      "cfp\n",
      "time = 92.31942319869995\n",
      "org       0.401141\n",
      "lm        0.219610\n",
      "knn       0.277505\n",
      "kernel    0.260313\n",
      "Name: cfp, dtype: float64\n",
      "cfp_ia\n",
      "time = 80.51496005058289\n",
      "org       0.438472\n",
      "lm        0.227055\n",
      "knn       0.288998\n",
      "kernel    0.270734\n",
      "Name: cfp_ia, dtype: float64\n",
      "chatoia\n",
      "time = 81.04963898658752\n",
      "org       0.276394\n",
      "lm        0.207734\n",
      "knn       0.091392\n",
      "kernel    0.010292\n",
      "Name: chatoia, dtype: float64\n",
      "chcsho\n",
      "time = 87.55312609672546\n",
      "org      -0.658652\n",
      "lm        0.075102\n",
      "knn      -0.158552\n",
      "kernel    0.012245\n",
      "Name: chcsho, dtype: float64\n",
      "chempia\n",
      "time = 83.5518651008606\n",
      "org      -0.468386\n",
      "lm        0.042691\n",
      "knn       0.105217\n",
      "kernel    0.078833\n",
      "Name: chempia, dtype: float64\n",
      "chfeps\n"
     ]
    }
   ],
   "source": [
    "knn_sig_df = pd.DataFrame()\n",
    "lm_sig_df = pd.DataFrame()\n",
    "kernel_sig_df = pd.DataFrame()\n",
    "\n",
    "pnl_df = pd.DataFrame()\n",
    "lm_pnl_df = pd.DataFrame()\n",
    "knn_pnl_df = pd.DataFrame()\n",
    "kernel_pnl_df = pd.DataFrame()\n",
    "\n",
    "shrp_df = pd.DataFrame()\n",
    "\n",
    "for sig_name in sig_df.columns :\n",
    "    print(sig_name)\n",
    "    \n",
    "    try :\n",
    "        t0 = time.time()\n",
    "        \n",
    "        this_sig_sr = sig_df[ [sig_name] ].copy()\n",
    "        #unmodified signal\n",
    "        pnl_sr = pm.run_signal(this_sig_sr.iloc[:,0], neu_sig=True)\n",
    "        pnl_df[sig_name] = pnl_sr\n",
    "        \n",
    "        #linear signal\n",
    "        lm_sig_sr = run_model( this_sig_sr, ret_sr, model_name='linear_regression', train_model_arg=train_model_arg, \n",
    "                          pred_model_arg ={},look_back=look_back)\n",
    "        lm_sig_df[sig_name] = lm_sig_sr\n",
    "        lm_pnl_sr = pm.run_signal(lm_sig_sr, neu_sig=True)\n",
    "        lm_pnl_df[sig_name] = lm_pnl_sr\n",
    "        \n",
    "        #knn signal\n",
    "        knn_sig_sr = run_model( this_sig_sr, ret_sr, model_name='knn', train_model_arg=train_model_arg, \n",
    "                          pred_model_arg ={},look_back=look_back)\n",
    "        knn_sig_df[sig_name] = knn_sig_sr   \n",
    "        knn_pnl_sr = pm.run_signal(knn_sig_sr, neu_sig=True)\n",
    "        knn_pnl_df[sig_name] = knn_pnl_sr\n",
    "        \n",
    "        #kernel signal\n",
    "        kernel_sig_sr = run_model( this_sig_sr, ret_sr, model_name='ridge_kernel', train_model_arg=train_model_arg, \n",
    "                          pred_model_arg ={},look_back=look_back)\n",
    "        kernel_sig_df[sig_name] = kernel_sig_sr   \n",
    "        kernel_pnl_sr = pm.run_signal(kernel_sig_sr, neu_sig=True)\n",
    "        kernel_pnl_df[sig_name] = kernel_pnl_sr\n",
    "        \n",
    "        \n",
    "        s1 = pnl_sr.mean()*sqrt(12)/ pnl_sr.std()\n",
    "        s2 = lm_pnl_sr.mean()*sqrt(12)/ lm_pnl_sr.std()\n",
    "        s3 = knn_pnl_sr.mean()*sqrt(12)/ knn_pnl_sr.std()\n",
    "        s4  = kernel_pnl_sr.mean()*sqrt(12)/ kernel_pnl_sr.std()\n",
    "        \n",
    "        this_shrp = pd.Series([s1,s2,s3,s4], index=['org', 'lm', 'knn', 'kernel'], name = sig_name)\n",
    "        shrp_df = shrp_df.append(this_shrp)\n",
    "        \n",
    "        t1 = time.time()\n",
    "        this_time = t1-t0\n",
    "        print('time = ' + str(this_time)) \n",
    "        print(this_shrp)\n",
    "        \n",
    "    except Exception as e :\n",
    "        print(e)"
   ]
  },
  {
   "cell_type": "code",
   "execution_count": null,
   "metadata": {
    "collapsed": false
   },
   "outputs": [],
   "source": [
    "shrp_df.sort_values( ['knn'], ascending=False)\n",
    "#knn_sig_df.to_csv('/Users/raghuramkowdeed/Desktop/afp_data/knn_signals.csv')"
   ]
  },
  {
   "cell_type": "code",
   "execution_count": null,
   "metadata": {
    "collapsed": true
   },
   "outputs": [],
   "source": []
  },
  {
   "cell_type": "code",
   "execution_count": 21,
   "metadata": {
    "collapsed": false
   },
   "outputs": [],
   "source": [
    "#model_name = 'pls_regression'\n",
    "#train_model_arg = { 'n_components':5, 'scale':True, 'max_iter':5000, 'tol':1e-08, 'copy':True }\n",
    "\n",
    "model_name = 'linear_regression'\n",
    "train_model_arg = None\n",
    "look_back = 3\n",
    "\n",
    "this_sig_df = lm_sig_df.copy()\n",
    "this_ret_sr = ret_sr.loc[this_sig_df.index.unique()]\n",
    "\n",
    "#this_sig_df = knn_sig_df.loc[knn_sig_df.index.unique()]\n",
    "\n",
    "comb_sig_sr = run_model( this_sig_df, this_ret_sr, model_name, train_model_arg=train_model_arg, \n",
    "                          pred_model_arg ={},look_back=look_back)"
   ]
  },
  {
   "cell_type": "code",
   "execution_count": 22,
   "metadata": {
    "collapsed": false
   },
   "outputs": [],
   "source": [
    "comb_knn_pnl_sr = pm.run_signal(comb_sig_sr, neu_sig=True)"
   ]
  },
  {
   "cell_type": "code",
   "execution_count": 23,
   "metadata": {
    "collapsed": false
   },
   "outputs": [
    {
     "name": "stdout",
     "output_type": "stream",
     "text": [
      "0.446288377299\n"
     ]
    },
    {
     "data": {
      "image/png": "[encoded data removed]",
      "text/plain": [
       "<matplotlib.figure.Figure at 0x130f65438>"
      ]
     },
     "metadata": {},
     "output_type": "display_data"
    }
   ],
   "source": [
    "comb_knn_pnl_sr.cumsum().plot()\n",
    "print(comb_knn_pnl_sr.mean()*sqrt(12)/comb_knn_pnl_sr.std())"
   ]
  },
  {
   "cell_type": "code",
   "execution_count": 18,
   "metadata": {
    "collapsed": false
   },
   "outputs": [
    {
     "data": {
      "text/plain": [
       "(162000,)"
      ]
     },
     "execution_count": 18,
     "metadata": {},
     "output_type": "execute_result"
    }
   ],
   "source": [
    "ret_sr.shape"
   ]
  },
  {
   "cell_type": "code",
   "execution_count": 20,
   "metadata": {
    "collapsed": false
   },
   "outputs": [
    {
     "data": {
      "text/plain": [
       "(156000, 99)"
      ]
     },
     "execution_count": 20,
     "metadata": {},
     "output_type": "execute_result"
    }
   ],
   "source": [
    "knn_sig_df.shape"
   ]
  },
  {
   "cell_type": "code",
   "execution_count": 61,
   "metadata": {
    "collapsed": false
   },
   "outputs": [
    {
     "data": {
      "text/plain": [
       "<matplotlib.axes._subplots.AxesSubplot at 0x11ef836d8>"
      ]
     },
     "execution_count": 61,
     "metadata": {},
     "output_type": "execute_result"
    },
    {
     "data": {
      "image/png": "[encoded data removed]",
      "text/plain": [
       "<matplotlib.figure.Figure at 0x11ef8ba20>"
      ]
     },
     "metadata": {},
     "output_type": "display_data"
    }
   ],
   "source": [
    "pnl_df['chnanalyst'].cumsum().plot()"
   ]
  },
  {
   "cell_type": "code",
   "execution_count": null,
   "metadata": {
    "collapsed": false
   },
   "outputs": [],
   "source": []
  },
  {
   "cell_type": "code",
   "execution_count": 63,
   "metadata": {
    "collapsed": true
   },
   "outputs": [],
   "source": [
    "knn_shrp = knn_pnl_df.mean()*sqrt(12)/ knn_pnl_df.std()\n",
    "lm_shrp =  lm_pnl_df.mean()*sqrt(12) / lm_pnl_df.std()\n",
    "org_shrp = pnl_df.mean()*sqrt(12)/pnl_df.std()\n",
    "shrp_df = pd.DataFrame()\n",
    "shrp_df['org'] = org_shrp\n",
    "shrp_df['lm'] = lm_shrp\n",
    "shrp_df['knn'] = knn_shrp"
   ]
  },
  {
   "cell_type": "code",
   "execution_count": 67,
   "metadata": {
    "collapsed": false
   },
   "outputs": [
    {
     "data": {
      "text/plain": [
       "absacc        2.586898\n",
       "acc           2.637916\n",
       "aeavol        2.653246\n",
       "age           2.668808\n",
       "agr           2.744836\n",
       "baspread      2.521271\n",
       "betasq        2.484497\n",
       "bm            2.611688\n",
       "bm_ia         2.592093\n",
       "cash          2.551073\n",
       "cashdebt      2.654081\n",
       "cashpr        2.686036\n",
       "cfp           2.617250\n",
       "cfp_ia        2.618966\n",
       "chatoia       2.681846\n",
       "chcsho        2.752374\n",
       "chempia       2.692382\n",
       "chfeps        2.701505\n",
       "chinv         2.657477\n",
       "chmom         2.541120\n",
       "chnanalyst    2.716437\n",
       "chpmia        2.697061\n",
       "chtx          2.751365\n",
       "cinvest       2.776126\n",
       "convind       2.365689\n",
       "currat        2.634149\n",
       "depr          2.614962\n",
       "disp          2.560175\n",
       "divi          2.179681\n",
       "orgcap        2.615662\n",
       "                ...   \n",
       "operprof      2.618576\n",
       "roeq          2.668605\n",
       "roic          2.654348\n",
       "rsup          2.701712\n",
       "salecash      2.643701\n",
       "saleinv       2.690906\n",
       "salerec       2.626012\n",
       "secured       2.749669\n",
       "securedind    2.700644\n",
       "sfe           2.454502\n",
       "sgr           2.700846\n",
       "sin           2.448995\n",
       "sp            2.649086\n",
       "std_dolvol    2.681023\n",
       "quick         2.633164\n",
       "rd            2.568395\n",
       "rd_mve        2.613915\n",
       "rd_sale       2.630163\n",
       "realestate    2.639942\n",
       "retvol        2.554974\n",
       "roaq          2.658309\n",
       "roavol        2.643534\n",
       "std_turn      2.549512\n",
       "stdacc        2.715160\n",
       "stdcf         2.708529\n",
       "sue           2.820978\n",
       "tang          2.633726\n",
       "tb            2.733505\n",
       "turn          2.511254\n",
       "zerotrade     2.500550\n",
       "dtype: float64"
      ]
     },
     "execution_count": 67,
     "metadata": {},
     "output_type": "execute_result"
    }
   ],
   "source": [
    "lm_pnl_df.mean()*sqrt(12)/lm_pnl_df.std()"
   ]
  },
  {
   "cell_type": "code",
   "execution_count": 68,
   "metadata": {
    "collapsed": true
   },
   "outputs": [],
   "source": [
    "lm_sig_sr = run_model( sig_df[['acc']], ret_sr, model_name='linear_regression', train_model_arg=None, \n",
    "                          pred_model_arg ={},look_back=look_back)"
   ]
  },
  {
   "cell_type": "code",
   "execution_count": null,
   "metadata": {
    "collapsed": true
   },
   "outputs": [],
   "source": []
  }
 ],
 "metadata": {
  "anaconda-cloud": {},
  "kernelspec": {
   "display_name": "Python [Root]",
   "language": "python",
   "name": "Python [Root]"
  },
  "language_info": {
   "codemirror_mode": {
    "name": "ipython",
    "version": 3
   },
   "file_extension": ".py",
   "mimetype": "text/x-python",
   "name": "python",
   "nbconvert_exporter": "python",
   "pygments_lexer": "ipython3",
   "version": "3.5.2"
  }
 },
 "nbformat": 4,
 "nbformat_minor": 2
}
