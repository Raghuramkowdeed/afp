{
 "cells": [
  {
   "cell_type": "code",
   "execution_count": 1,
   "metadata": {
    "collapsed": false
   },
   "outputs": [],
   "source": [
    "import numpy as np\n",
    "import pandas as pd\n",
    "import os as os"
   ]
  },
  {
   "cell_type": "code",
   "execution_count": 2,
   "metadata": {
    "collapsed": true
   },
   "outputs": [],
   "source": [
    "os.chdir('/Users/raghuramkowdeed/Documents/afp/')"
   ]
  },
  {
   "cell_type": "code",
   "execution_count": 3,
   "metadata": {
    "collapsed": false
   },
   "outputs": [
    {
     "name": "stdout",
     "output_type": "stream",
     "text": [
      "Populating the interactive namespace from numpy and matplotlib\n"
     ]
    }
   ],
   "source": [
    "%pylab inline\n",
    "exec(open(\"./run_model.py\").read())\n",
    "exec(open(\"./get_signal_names.py\").read())\n",
    "exec(open(\"./portfolio_optimizer.py\").read())\n",
    "\n",
    "import datetime\n",
    "from pylab import rcParams\n"
   ]
  },
  {
   "cell_type": "code",
   "execution_count": 4,
   "metadata": {
    "collapsed": true
   },
   "outputs": [],
   "source": [
    "use_rank = True\n",
    "\n",
    "sig_dir = '/Users/raghuramkowdeed/Desktop/afp_data/rank/500/rps_data/'\n",
    "fac_data_dir='/Users/raghuramkowdeed/Desktop/afp_data/rank/500/factor_exposure_data/'\n",
    "fac_ret_file = '/Users/raghuramkowdeed/Desktop/afp_data/rank/500/fac_ret_file.csv'\n",
    "\n",
    "if not use_rank:\n",
    "    sig_dir = '/Users/raghuramkowdeed/Desktop/afp_data/norm/500/rps_data/'\n",
    "    fac_data_dir='/Users/raghuramkowdeed/Desktop/afp_data/norm/500/factor_exposure_data/'\n",
    "    fac_ret_file = '/Users/raghuramkowdeed/Desktop/afp_data/norm/500/fac_ret_file.csv'"
   ]
  },
  {
   "cell_type": "code",
   "execution_count": 5,
   "metadata": {
    "collapsed": false
   },
   "outputs": [],
   "source": [
    "sig_df = pd.DataFrame()\n",
    "sig_files = os.listdir(sig_dir)\n",
    "sig_files = np.sort(sig_files)\n",
    "\n",
    "for sig_file in sig_files :\n",
    "    if '.csv' not in sig_file :\n",
    "        continue\n",
    "    #print(sig_file)\n",
    "    this_file = sig_dir + sig_file\n",
    "    this_df = pd.read_csv(this_file, index_col = 'date')\n",
    "    this_df.index = [ datetime.datetime.strptime(val, '%Y-%m-%d') for val in this_df.index]\n",
    "    sig_df = sig_df.append(this_df)\n",
    "data = sig_df.copy()"
   ]
  },
  {
   "cell_type": "code",
   "execution_count": 6,
   "metadata": {
    "collapsed": true
   },
   "outputs": [],
   "source": [
    "model_name = 'pls_regression'\n",
    "train_model_arg = { 'n_components':50, 'scale':False, 'max_iter':5000, 'tol':1e-08, 'copy':True }\n",
    "#model_name = 'linear_regression'\n",
    "#train_model_arg = None\n",
    "\n",
    "\n",
    "look_back = 12"
   ]
  },
  {
   "cell_type": "code",
   "execution_count": 7,
   "metadata": {
    "collapsed": true
   },
   "outputs": [],
   "source": [
    "begin_date = datetime.datetime.strptime('19900101', '%Y%m%d')\n",
    "end_date = datetime.datetime.strptime('20170101', '%Y%m%d')\n",
    "\n",
    "sig_df = sig_df[(sig_df.index>=begin_date) & (sig_df.index<end_date)]\n",
    "sig_df = sig_df.fillna(sig_df.mean())"
   ]
  },
  {
   "cell_type": "code",
   "execution_count": null,
   "metadata": {
    "collapsed": false
   },
   "outputs": [],
   "source": []
  },
  {
   "cell_type": "code",
   "execution_count": 8,
   "metadata": {
    "collapsed": false
   },
   "outputs": [
    {
     "data": {
      "text/plain": [
       "True"
      ]
     },
     "execution_count": 8,
     "metadata": {},
     "output_type": "execute_result"
    }
   ],
   "source": [
    "'res_ret' in sig_df.columns"
   ]
  },
  {
   "cell_type": "code",
   "execution_count": 9,
   "metadata": {
    "collapsed": false
   },
   "outputs": [],
   "source": [
    "#factor_names =  ['beta','mve', 'bm', 'roic', 'agr', 'mom12m', 'idiovol']\n",
    "factor_names =  ['beta']\n",
    "sig_names = get_signal_names()\n",
    "ret_sr = sig_df['ret']\n",
    "sig_df = sig_df[sig_names]\n",
    "sig_df = sig_df.drop(factor_names, axis=1)"
   ]
  },
  {
   "cell_type": "code",
   "execution_count": null,
   "metadata": {
    "collapsed": true
   },
   "outputs": [],
   "source": [
    "#dim_vec = range(5,90,10)\n",
    "dim_vec = range(1,25,1)"
   ]
  },
  {
   "cell_type": "code",
   "execution_count": null,
   "metadata": {
    "collapsed": false
   },
   "outputs": [
    {
     "name": "stdout",
     "output_type": "stream",
     "text": [
      "1\n",
      "2\n",
      "3\n",
      "4\n"
     ]
    }
   ],
   "source": [
    "model_sig_df = pd.DataFrame()\n",
    "\n",
    "for this_dim in dim_vec :\n",
    "    print(this_dim)\n",
    "    train_model_arg['n_components'] = this_dim    \n",
    "    model_sig_sr = run_model( sig_df, ret_sr, model_name, train_model_arg=train_model_arg, \n",
    "                          pred_model_arg ={},look_back=look_back)\n",
    "    model_sig_df[this_dim] = model_sig_sr"
   ]
  },
  {
   "cell_type": "code",
   "execution_count": null,
   "metadata": {
    "collapsed": false
   },
   "outputs": [],
   "source": [
    "'res_ret' in sig_df.columns"
   ]
  },
  {
   "cell_type": "code",
   "execution_count": null,
   "metadata": {
    "collapsed": false
   },
   "outputs": [],
   "source": [
    "\n",
    "pm = PortfolioOptimizer(fac_data_dir=fac_data_dir,\n",
    "                        fac_ret_file = fac_ret_file,\n",
    "                        fac_cov_hl = 12.0,\n",
    "                        fac_names = None\n",
    "                       )\n",
    "\n"
   ]
  },
  {
   "cell_type": "code",
   "execution_count": null,
   "metadata": {
    "collapsed": true
   },
   "outputs": [],
   "source": [
    "#new_sig_df = pd.DataFrame()\n",
    "\n",
    "#for sig_name in sig_df.columns :\n",
    "#    this_sig = sig_df[sig_name]\n",
    "#    this_sig = pm.neu_signal(this_sig)\n",
    "#    this_sig = this_sig.fillna(this_sig.mean())\n",
    "#    new_sig_df[sig_name] = this_sig\n",
    "#sig_df = new_sig_df"
   ]
  },
  {
   "cell_type": "code",
   "execution_count": null,
   "metadata": {
    "collapsed": false
   },
   "outputs": [],
   "source": [
    "pnl_df = pd.DataFrame()\n",
    "for i in range( model_sig_df.shape[1]):\n",
    "    print(i)\n",
    "    pnl_sr = pm.run_signal(sig_sr=model_sig_df.iloc[:,i],neu_sig=True)\n",
    "    pnl_df[dim_vec[i]] = pnl_sr\n",
    "\n",
    "pnl_df[0] = np.zeros(pnl_df.shape[0])"
   ]
  },
  {
   "cell_type": "code",
   "execution_count": null,
   "metadata": {
    "collapsed": false
   },
   "outputs": [],
   "source": [
    "window = 12\n",
    "#pnl_df_avg = ( pnl_df.rolling(window=window).mean()*sqrt(12) ) /( pnl_df.rolling(window=window).std() )\n",
    "pnl_df_avg = ( pnl_df.rolling(window=window).mean()*sqrt(12) )    \n",
    "max_ind = pnl_df_avg.idxmax(axis=1)\n",
    "min_ind = pnl_df_avg.idxmin(axis=1)\n",
    "max_ind_smt = max_ind.ewm(halflife=window).mean()\n",
    "\n",
    "rcParams['figure.figsize'] = 20,10\n",
    "max_ind_smt.plot()"
   ]
  },
  {
   "cell_type": "code",
   "execution_count": null,
   "metadata": {
    "collapsed": false
   },
   "outputs": [],
   "source": [
    "window = 6\n",
    "#pnl_df_avg = ( pnl_df.rolling(window=window).mean()*sqrt(12) ) /( pnl_df.rolling(window=window).std() )\n",
    "pnl_df_avg = ( pnl_df.rolling(window=window).mean()*sqrt(12) )    \n",
    "max_ind = pnl_df_avg.idxmax(axis=1)\n",
    "min_ind = pnl_df_avg.idxmin(axis=1)\n",
    "max_ind_smt = max_ind.ewm(halflife=window).mean()\n",
    "\n",
    "rcParams['figure.figsize'] = 20,10\n",
    "max_ind_smt.plot()"
   ]
  },
  {
   "cell_type": "code",
   "execution_count": null,
   "metadata": {
    "collapsed": false
   },
   "outputs": [],
   "source": [
    "(pnl_df_avg.iloc[:,-2] - pnl_df_avg.iloc[:,0] ).plot()"
   ]
  },
  {
   "cell_type": "code",
   "execution_count": null,
   "metadata": {
    "collapsed": false
   },
   "outputs": [],
   "source": [
    "pnl_df.mean(axis=0)*sqrt(12)/pnl_df.std(axis=0)"
   ]
  },
  {
   "cell_type": "code",
   "execution_count": null,
   "metadata": {
    "collapsed": false,
    "scrolled": true
   },
   "outputs": [],
   "source": [
    "dim_sr = pd.Series( dim_vec, index = pnl_df_avg.columns[:-1] )"
   ]
  },
  {
   "cell_type": "code",
   "execution_count": null,
   "metadata": {
    "collapsed": false
   },
   "outputs": [],
   "source": [
    "c = ( pnl_df.iloc[:,:-1] ).corrwith(dim_sr, axis=1) "
   ]
  },
  {
   "cell_type": "code",
   "execution_count": null,
   "metadata": {
    "collapsed": false
   },
   "outputs": [],
   "source": [
    "c.ewm(halflife=24).mean().plot()"
   ]
  },
  {
   "cell_type": "code",
   "execution_count": null,
   "metadata": {
    "collapsed": false
   },
   "outputs": [],
   "source": [
    "import statsmodels.api as sm\n",
    "lm_weights = []\n",
    "lm_tstats = []\n",
    "lm_pvalues = []\n",
    "\n",
    "window = 24\n",
    "pnl_df_avg = pnl_df.ewm(halflife=window).mean()\n",
    "pnl_df_avg.dropna(inplace=True, axis=1)\n",
    "\n",
    "for i in range(window,pnl_df_avg.shape[0]):\n",
    "    lm = LinearRegression(fit_intercept=True)\n",
    "    X = pd.DataFrame()\n",
    "    X['x'] = dim_sr\n",
    "    y = pnl_df_avg.iloc[i,:-1]\n",
    "    #y = ( y - y.mean())/y.std()\n",
    "    #X = sm.add_constant(X, prepend=False)\n",
    "    model = sm.OLS(y,X)\n",
    "    results = model.fit()\n",
    "    lm_weights.append( results.params[0] )\n",
    "\n",
    "    lm_tstats.append( results.tvalues[0] )\n",
    "    lm_pvalues.append(results.f_pvalue)\n",
    "\n",
    "    \n",
    "dates = pnl_df.index[(window):]\n",
    "print(dates.shape)\n",
    "print(pnl_df_avg.shape)\n",
    "\n",
    "lm_weights = pd.Series(lm_weights, index = dates)\n",
    "lm_tstats = pd.Series(lm_tstats, index = dates)\n",
    "lm_pvalues = pd.Series(lm_pvalues, index = dates)"
   ]
  },
  {
   "cell_type": "code",
   "execution_count": null,
   "metadata": {
    "collapsed": false
   },
   "outputs": [],
   "source": [
    "lm_weights.ewm(halflife=3).mean().plot()"
   ]
  },
  {
   "cell_type": "code",
   "execution_count": null,
   "metadata": {
    "collapsed": false
   },
   "outputs": [],
   "source": [
    "lm_pvalues.ewm(halflife=3).mean().plot()"
   ]
  },
  {
   "cell_type": "code",
   "execution_count": null,
   "metadata": {
    "collapsed": false
   },
   "outputs": [],
   "source": [
    "sr.iloc[:-1].plot()"
   ]
  },
  {
   "cell_type": "code",
   "execution_count": null,
   "metadata": {
    "collapsed": false
   },
   "outputs": [],
   "source": [
    "plot( dim_vec, pnl_df_avg.iloc[-1,].values[:-1], )"
   ]
  },
  {
   "cell_type": "code",
   "execution_count": null,
   "metadata": {
    "collapsed": false
   },
   "outputs": [],
   "source": [
    "pnl_df_avg"
   ]
  },
  {
   "cell_type": "code",
   "execution_count": null,
   "metadata": {
    "collapsed": true
   },
   "outputs": [],
   "source": []
  }
 ],
 "metadata": {
  "anaconda-cloud": {},
  "kernelspec": {
   "display_name": "Python [Root]",
   "language": "python",
   "name": "Python [Root]"
  },
  "language_info": {
   "codemirror_mode": {
    "name": "ipython",
    "version": 3
   },
   "file_extension": ".py",
   "mimetype": "text/x-python",
   "name": "python",
   "nbconvert_exporter": "python",
   "pygments_lexer": "ipython3",
   "version": "3.5.2"
  }
 },
 "nbformat": 4,
 "nbformat_minor": 2
}
